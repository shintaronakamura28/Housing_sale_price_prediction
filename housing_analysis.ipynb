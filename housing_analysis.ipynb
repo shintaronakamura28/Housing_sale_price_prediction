{
 "cells": [
  {
   "cell_type": "markdown",
   "metadata": {},
   "source": [
    "### Deliverables \n",
    "1. EDA\n",
    "2. Data Viz\n",
    "3. Clustering\n",
    "4. Silhouette + Inertia\n",
    "5. 3 different DL models > base\n",
    "6. 3 DL finetuned models > Keras Tuner\n",
    "7. 3 ML different ML models > base\n",
    "8. 3 ML finetuned models > GridsearchCV\n",
    "9. Feature importance\n",
    "10. top 10 most common important features on all 3 ML models\n",
    "11. SHAP Forceplots\n",
    "12. LIME\n",
    "13. Saved dataset with the top 10 most common and significant features\n",
    "14. Select the 2 best models (2 ML)\n",
    "15. Conclusion and explain why these 2 models and why a DL model if able"
   ]
  },
  {
   "cell_type": "code",
   "execution_count": 1,
   "metadata": {},
   "outputs": [
    {
     "name": "stderr",
     "output_type": "stream",
     "text": [
      "c:\\Users\\ADMIN\\anaconda3\\envs\\ds-gg\\lib\\site-packages\\pandas\\core\\arrays\\masked.py:60: UserWarning: Pandas requires version '1.3.6' or newer of 'bottleneck' (version '1.3.5' currently installed).\n",
      "  from pandas.core import (\n"
     ]
    }
   ],
   "source": [
    "import pandas as pd\n",
    "import numpy as np \n",
    "import matplotlib.pyplot as plt\n",
    "import seaborn as sn \n",
    "import missingno as mn\n",
    "\n",
    "#preprocessing\n",
    "from sklearn.preprocessing import StandardScaler, OneHotEncoder, LabelEncoder\n",
    "from sklearn.model_selection import train_test_split, GridSearchCV, learning_curve\n",
    "from sklearn.impute import KNNImputer\n",
    "from sklearn.compose import ColumnTransformer, make_column_selector\n",
    "from imblearn.pipeline import Pipeline\n",
    "from imblearn.over_sampling import SMOTE\n",
    "from sklearn.exceptions import NotFittedError\n",
    "\n",
    "#models\n",
    "from sklearn.tree import DecisionTreeClassifier\n",
    "from sklearn.neighbors import KNeighborsClassifier\n",
    "from sklearn.svm import NuSVC\n",
    "from sklearn.ensemble import RandomForestClassifier, AdaBoostClassifier\n",
    "from lazypredict.Supervised import LazyClassifier\n",
    "from sklearn.svm import LinearSVC\n",
    "from sklearn.calibration import CalibratedClassifierCV\n",
    "from sklearn.linear_model import LogisticRegression\n",
    "\n",
    "#metrics\n",
    "from sklearn.metrics import(recall_score, accuracy_score, f1_score, precision_score, confusion_matrix, classification_report, ConfusionMatrixDisplay, roc_curve, auc)\n",
    "\n",
    "#SHAP explainer\n",
    "import shap\n",
    "\n",
    "#LIME\n",
    "import lime\n",
    "import lime.lime_tabular\n",
    "\n",
    "#widgets and dispaly\n",
    "import ipywidgets as widgets\n",
    "from IPython.display import display\n",
    "\n",
    "#utilities\n",
    "import pickle\n",
    "import os\n",
    "from tqdm import tqdm"
   ]
  },
  {
   "cell_type": "markdown",
   "metadata": {},
   "source": [
    "### Business goal\n",
    "- Determine prices of properties based on the features"
   ]
  },
  {
   "cell_type": "markdown",
   "metadata": {},
   "source": [
    "### Loading data"
   ]
  },
  {
   "cell_type": "code",
   "execution_count": 2,
   "metadata": {},
   "outputs": [
    {
     "data": {
      "text/html": [
       "<div>\n",
       "<style scoped>\n",
       "    .dataframe tbody tr th:only-of-type {\n",
       "        vertical-align: middle;\n",
       "    }\n",
       "\n",
       "    .dataframe tbody tr th {\n",
       "        vertical-align: top;\n",
       "    }\n",
       "\n",
       "    .dataframe thead th {\n",
       "        text-align: right;\n",
       "    }\n",
       "</style>\n",
       "<table border=\"1\" class=\"dataframe\">\n",
       "  <thead>\n",
       "    <tr style=\"text-align: right;\">\n",
       "      <th></th>\n",
       "      <th>SalePrice</th>\n",
       "      <th>SqFt1stFloor</th>\n",
       "      <th>SqFtHalfFloor</th>\n",
       "      <th>SqFt2ndFloor</th>\n",
       "      <th>SqFtUpperFloor</th>\n",
       "      <th>SqFtTotLiving</th>\n",
       "      <th>SqFtTotBasement</th>\n",
       "      <th>SqFtFinBasement</th>\n",
       "      <th>SqFtGarageBasement</th>\n",
       "      <th>SqFtGarageAttached</th>\n",
       "      <th>...</th>\n",
       "      <th>SqFtEnclosedPorch</th>\n",
       "      <th>SqFtDeck</th>\n",
       "      <th>BrickStone</th>\n",
       "      <th>Bedrooms</th>\n",
       "      <th>BathHalfCount</th>\n",
       "      <th>Bath3qtrCount</th>\n",
       "      <th>BathFullCount</th>\n",
       "      <th>YrBuilt</th>\n",
       "      <th>Longitude</th>\n",
       "      <th>Latitude</th>\n",
       "    </tr>\n",
       "  </thead>\n",
       "  <tbody>\n",
       "    <tr>\n",
       "      <th>0</th>\n",
       "      <td>400000</td>\n",
       "      <td>1590</td>\n",
       "      <td>0</td>\n",
       "      <td>0</td>\n",
       "      <td>0</td>\n",
       "      <td>3180</td>\n",
       "      <td>1590</td>\n",
       "      <td>1590</td>\n",
       "      <td>0</td>\n",
       "      <td>600</td>\n",
       "      <td>...</td>\n",
       "      <td>0</td>\n",
       "      <td>220</td>\n",
       "      <td>0</td>\n",
       "      <td>6</td>\n",
       "      <td>0</td>\n",
       "      <td>2</td>\n",
       "      <td>1</td>\n",
       "      <td>1965</td>\n",
       "      <td>-122.20</td>\n",
       "      <td>47.34</td>\n",
       "    </tr>\n",
       "    <tr>\n",
       "      <th>1</th>\n",
       "      <td>474250</td>\n",
       "      <td>1390</td>\n",
       "      <td>0</td>\n",
       "      <td>0</td>\n",
       "      <td>0</td>\n",
       "      <td>2200</td>\n",
       "      <td>810</td>\n",
       "      <td>810</td>\n",
       "      <td>0</td>\n",
       "      <td>0</td>\n",
       "      <td>...</td>\n",
       "      <td>0</td>\n",
       "      <td>340</td>\n",
       "      <td>0</td>\n",
       "      <td>4</td>\n",
       "      <td>1</td>\n",
       "      <td>0</td>\n",
       "      <td>1</td>\n",
       "      <td>1945</td>\n",
       "      <td>-122.36</td>\n",
       "      <td>47.51</td>\n",
       "    </tr>\n",
       "    <tr>\n",
       "      <th>2</th>\n",
       "      <td>667950</td>\n",
       "      <td>1010</td>\n",
       "      <td>0</td>\n",
       "      <td>1515</td>\n",
       "      <td>0</td>\n",
       "      <td>2525</td>\n",
       "      <td>0</td>\n",
       "      <td>0</td>\n",
       "      <td>0</td>\n",
       "      <td>400</td>\n",
       "      <td>...</td>\n",
       "      <td>0</td>\n",
       "      <td>0</td>\n",
       "      <td>0</td>\n",
       "      <td>4</td>\n",
       "      <td>1</td>\n",
       "      <td>0</td>\n",
       "      <td>2</td>\n",
       "      <td>2019</td>\n",
       "      <td>-122.16</td>\n",
       "      <td>47.44</td>\n",
       "    </tr>\n",
       "    <tr>\n",
       "      <th>3</th>\n",
       "      <td>659000</td>\n",
       "      <td>660</td>\n",
       "      <td>0</td>\n",
       "      <td>540</td>\n",
       "      <td>0</td>\n",
       "      <td>1820</td>\n",
       "      <td>620</td>\n",
       "      <td>620</td>\n",
       "      <td>0</td>\n",
       "      <td>0</td>\n",
       "      <td>...</td>\n",
       "      <td>0</td>\n",
       "      <td>100</td>\n",
       "      <td>0</td>\n",
       "      <td>3</td>\n",
       "      <td>1</td>\n",
       "      <td>0</td>\n",
       "      <td>2</td>\n",
       "      <td>2016</td>\n",
       "      <td>-122.37</td>\n",
       "      <td>47.57</td>\n",
       "    </tr>\n",
       "    <tr>\n",
       "      <th>4</th>\n",
       "      <td>656500</td>\n",
       "      <td>2310</td>\n",
       "      <td>0</td>\n",
       "      <td>0</td>\n",
       "      <td>0</td>\n",
       "      <td>2310</td>\n",
       "      <td>0</td>\n",
       "      <td>0</td>\n",
       "      <td>0</td>\n",
       "      <td>440</td>\n",
       "      <td>...</td>\n",
       "      <td>0</td>\n",
       "      <td>320</td>\n",
       "      <td>0</td>\n",
       "      <td>3</td>\n",
       "      <td>0</td>\n",
       "      <td>0</td>\n",
       "      <td>2</td>\n",
       "      <td>1967</td>\n",
       "      <td>-122.18</td>\n",
       "      <td>47.73</td>\n",
       "    </tr>\n",
       "  </tbody>\n",
       "</table>\n",
       "<p>5 rows × 22 columns</p>\n",
       "</div>"
      ],
      "text/plain": [
       "   SalePrice  SqFt1stFloor  SqFtHalfFloor  SqFt2ndFloor  SqFtUpperFloor  \\\n",
       "0     400000          1590              0             0               0   \n",
       "1     474250          1390              0             0               0   \n",
       "2     667950          1010              0          1515               0   \n",
       "3     659000           660              0           540               0   \n",
       "4     656500          2310              0             0               0   \n",
       "\n",
       "   SqFtTotLiving  SqFtTotBasement  SqFtFinBasement  SqFtGarageBasement  \\\n",
       "0           3180             1590             1590                   0   \n",
       "1           2200              810              810                   0   \n",
       "2           2525                0                0                   0   \n",
       "3           1820              620              620                   0   \n",
       "4           2310                0                0                   0   \n",
       "\n",
       "   SqFtGarageAttached  ...  SqFtEnclosedPorch  SqFtDeck  BrickStone  Bedrooms  \\\n",
       "0                 600  ...                  0       220           0         6   \n",
       "1                   0  ...                  0       340           0         4   \n",
       "2                 400  ...                  0         0           0         4   \n",
       "3                   0  ...                  0       100           0         3   \n",
       "4                 440  ...                  0       320           0         3   \n",
       "\n",
       "   BathHalfCount  Bath3qtrCount  BathFullCount  YrBuilt  Longitude  Latitude  \n",
       "0              0              2              1     1965    -122.20     47.34  \n",
       "1              1              0              1     1945    -122.36     47.51  \n",
       "2              1              0              2     2019    -122.16     47.44  \n",
       "3              1              0              2     2016    -122.37     47.57  \n",
       "4              0              0              2     1967    -122.18     47.73  \n",
       "\n",
       "[5 rows x 22 columns]"
      ]
     },
     "execution_count": 2,
     "metadata": {},
     "output_type": "execute_result"
    }
   ],
   "source": [
    "file_path = 'data/housing.csv'\n",
    "\n",
    "df = pd.read_csv(file_path)\n",
    "\n",
    "df.head()"
   ]
  },
  {
   "cell_type": "markdown",
   "metadata": {},
   "source": [
    "# 1. EDA\n"
   ]
  },
  {
   "cell_type": "code",
   "execution_count": 3,
   "metadata": {},
   "outputs": [
    {
     "name": "stdout",
     "output_type": "stream",
     "text": [
      "Number of records: 4944\n",
      "\n",
      "Number of features 22\n",
      "\n",
      "Data types: \n",
      "SalePrice               int64\n",
      "SqFt1stFloor            int64\n",
      "SqFtHalfFloor           int64\n",
      "SqFt2ndFloor            int64\n",
      "SqFtUpperFloor          int64\n",
      "SqFtTotLiving           int64\n",
      "SqFtTotBasement         int64\n",
      "SqFtFinBasement         int64\n",
      "SqFtGarageBasement      int64\n",
      "SqFtGarageAttached      int64\n",
      "DaylightBasement        int64\n",
      "SqFtOpenPorch           int64\n",
      "SqFtEnclosedPorch       int64\n",
      "SqFtDeck                int64\n",
      "BrickStone              int64\n",
      "Bedrooms                int64\n",
      "BathHalfCount           int64\n",
      "Bath3qtrCount           int64\n",
      "BathFullCount           int64\n",
      "YrBuilt                 int64\n",
      "Longitude             float64\n",
      "Latitude              float64\n",
      "dtype: object\n"
     ]
    }
   ],
   "source": [
    "num_record = df.shape[0]\n",
    "num_features = df.shape[1]\n",
    "data_types = df.dtypes\n",
    "\n",
    "print(f'Number of records: {num_record}')\n",
    "print(f'\\nNumber of features {num_features}')\n",
    "print(f'\\nData types: \\n{data_types}')"
   ]
  },
  {
   "cell_type": "code",
   "execution_count": 4,
   "metadata": {},
   "outputs": [
    {
     "data": {
      "text/plain": [
       "<Axes: >"
      ]
     },
     "execution_count": 4,
     "metadata": {},
     "output_type": "execute_result"
    },
    {
     "data": {
      "image/png": "[encoded data removed]",
      "text/plain": [
       "<Figure size 1000x500 with 2 Axes>"
      ]
     },
     "metadata": {},
     "output_type": "display_data"
    }
   ],
   "source": [
    "#visualize missing values\n",
    "mn.matrix(df, figsize=(10,5), width_ratios=(5,1), fontsize=12)"
   ]
  },
  {
   "cell_type": "code",
   "execution_count": 5,
   "metadata": {},
   "outputs": [
    {
     "name": "stdout",
     "output_type": "stream",
     "text": [
      "Number of duplicated rows: 29\n",
      "\n",
      "Number of missing values: \n",
      "SalePrice             0\n",
      "SqFt1stFloor          0\n",
      "SqFtHalfFloor         0\n",
      "SqFt2ndFloor          0\n",
      "SqFtUpperFloor        0\n",
      "SqFtTotLiving         0\n",
      "SqFtTotBasement       0\n",
      "SqFtFinBasement       0\n",
      "SqFtGarageBasement    0\n",
      "SqFtGarageAttached    0\n",
      "DaylightBasement      0\n",
      "SqFtOpenPorch         0\n",
      "SqFtEnclosedPorch     0\n",
      "SqFtDeck              0\n",
      "BrickStone            0\n",
      "Bedrooms              0\n",
      "BathHalfCount         0\n",
      "Bath3qtrCount         0\n",
      "BathFullCount         0\n",
      "YrBuilt               0\n",
      "Longitude             0\n",
      "Latitude              0\n",
      "dtype: int64\n"
     ]
    }
   ],
   "source": [
    "duplicated_rows = df.duplicated().sum()\n",
    "missing_values = df.isna().sum()\n",
    "\n",
    "print(f'Number of duplicated rows: {duplicated_rows}')\n",
    "print(f'\\nNumber of missing values: \\n{missing_values}')"
   ]
  },
  {
   "cell_type": "code",
   "execution_count": 6,
   "metadata": {},
   "outputs": [
    {
     "name": "stdout",
     "output_type": "stream",
     "text": [
      "\n",
      "Statistics:        SalePrice  SqFt1stFloor  SqFtHalfFloor  SqFt2ndFloor  SqFtUpperFloor  \\\n",
      "count    4944.00       4944.00        4944.00       4944.00         4944.00   \n",
      "mean   664349.73       1175.50          51.76        349.31           26.99   \n",
      "std    297808.04        446.40         174.46        544.63          115.33   \n",
      "min     60000.00        260.00           0.00          0.00            0.00   \n",
      "25%    450000.00        880.00           0.00          0.00            0.00   \n",
      "50%    630550.00       1170.00           0.00          0.00            0.00   \n",
      "75%    788612.50       1450.00           0.00        580.00            0.00   \n",
      "max   1998000.00       3600.00        2000.00       3010.00         1220.00   \n",
      "\n",
      "       SqFtTotLiving  SqFtTotBasement  SqFtFinBasement  SqFtGarageBasement  \\\n",
      "count        4944.00          4944.00          4944.00             4944.00   \n",
      "mean         1935.21           595.07           334.27              102.42   \n",
      "std           764.89           567.18           422.83              187.12   \n",
      "min           300.00             0.00             0.00                0.00   \n",
      "25%          1390.00             0.00             0.00                0.00   \n",
      "50%          1770.00           560.00           110.00                0.00   \n",
      "75%          2360.00          1070.00           570.00              190.00   \n",
      "max          6695.00          3070.00          2620.00             1090.00   \n",
      "\n",
      "       SqFtGarageAttached  ...  SqFtEnclosedPorch  SqFtDeck  BrickStone  \\\n",
      "count             4944.00  ...            4944.00   4944.00     4944.00   \n",
      "mean               170.28  ...               8.27    148.91        4.42   \n",
      "std                239.64  ...              37.45    201.64       18.64   \n",
      "min                  0.00  ...               0.00      0.00        0.00   \n",
      "25%                  0.00  ...               0.00      0.00        0.00   \n",
      "50%                  0.00  ...               0.00     50.00        0.00   \n",
      "75%                400.00  ...               0.00    257.00        0.00   \n",
      "max               1830.00  ...             620.00   1940.00      100.00   \n",
      "\n",
      "       Bedrooms  BathHalfCount  Bath3qtrCount  BathFullCount  YrBuilt  \\\n",
      "count   4944.00        4944.00        4944.00        4944.00  4944.00   \n",
      "mean       3.38           0.39           0.63           1.32  1972.18   \n",
      "std        0.95           0.51           0.65           0.61    32.91   \n",
      "min        0.00           0.00           0.00           0.00  1900.00   \n",
      "25%        3.00           0.00           0.00           1.00  1952.00   \n",
      "50%        3.00           0.00           1.00           1.00  1967.00   \n",
      "75%        4.00           1.00           1.00           2.00  2016.00   \n",
      "max        8.00           3.00           4.00           5.00  2019.00   \n",
      "\n",
      "       Longitude  Latitude  \n",
      "count    4944.00   4944.00  \n",
      "mean     -122.27     47.57  \n",
      "std         0.09      0.13  \n",
      "min      -122.53     47.21  \n",
      "25%      -122.35     47.49  \n",
      "50%      -122.29     47.58  \n",
      "75%      -122.19     47.68  \n",
      "max      -122.09     47.78  \n",
      "\n",
      "[8 rows x 22 columns]\n"
     ]
    }
   ],
   "source": [
    "statistics = df.describe()\n",
    "print(f'\\nStatistics: {statistics}')"
   ]
  },
  {
   "cell_type": "code",
   "execution_count": 7,
   "metadata": {},
   "outputs": [
    {
     "name": "stdout",
     "output_type": "stream",
     "text": [
      "Unique Values in SalePrice column:\n",
      "[ 400000  474250  667950 ...  934939  442000 1214950]\n",
      "\n",
      "\n",
      "Unique Values in SqFt1stFloor column:\n",
      "[1590 1390 1010  660 2310 1330 1420 1020 1120  770 1060 1730 1450  850\n",
      " 1280 1110 1090 1820  980 1380 1130  500  360  430  730 1320 1710 1025\n",
      " 1660 1500 1860  840 1650  960 1180 1230 1480 1430  920 2380  700  950\n",
      " 1410 1140  900 1490  790  420 1560 1740 1300 1400 1053 1220 1100 1150\n",
      "  690 1561 1250  810 1270 1210  880 1310  640 1030 1190  600 1050 1200\n",
      " 1800  610  410  511  440 1840  800  830  890 1370  820 1260 1340 1711\n",
      "  670  520 1640 1470 1080  984 1160  550 1780 2210  940 1040  990 1940\n",
      "  910 2330 1920  570 1880 1670 1360 1610 2000 1690  390 1240 1350  710\n",
      " 1680  860 1000 1193 1620 1580  590  780 1988  330 2790  540  400 1290\n",
      "  580 1700 2010 1440 1540 1570 2110  480 2390  460 2580 2420 1170 2710\n",
      "  930 1151 1070 1760 1720 1304 2260 2190 1930 2490 1179 1830  650 1890\n",
      "  260 2360 1530  380  680  470  750 3030  870 1810  970 2120  620 1550\n",
      " 1970  441 1900 1510 1770 1960  720 2040 2020 1018 1630 1790  560 1850\n",
      "  370 1520 2590  530  740 1559 1460 1910  490 1600 1277 2070  760 2430\n",
      " 2180 3180 1908 1980 1408 2150 2140  450 2540 1950 2130 1031 2280  510\n",
      " 2080 2570 1808 2030 1308 1750  630 1476 1167 1212 2290 1688 2060 1258\n",
      " 1029 2610 2940 2520 1771 2250 1145 2460 2780 1285 1051 3600 2340 2160\n",
      " 2690 3270 1305 2202 2220 1634 2100  591 1870 2050 1627 2680 2370 3260\n",
      " 1152 2670  945 2090 2270 1106 1355 2530 2014 2170 1608 2200  852 1705\n",
      " 2560  879 1252 1255 2550 2240 2620 1125 1364 2175 2480 2840 1174 1028\n",
      " 1181 1022  522 2500 1102  862  300 2900 1339 2450  576 1112  786 2400\n",
      " 2750  638 1054 2600 1562 1136 1274 2350 1907 1126]\n",
      "\n",
      "\n",
      "Unique Values in SqFtHalfFloor column:\n",
      "[   0  410  490  720  480  570 1340  310  511  680  800  550  500  100\n",
      "  670  510  700  540 1200  260  590  630  250  340 1370  650  470  400\n",
      "  620  190  420 1280  441  170  600  350  390  940  240  610  360 1080\n",
      "  580  840  140  188  330  270  900  440 1250  320  380  370  450  980\n",
      "  520  560 1010  960   80  300  660  810 1030  728  524  760  710  460\n",
      " 1124  640  220  280 1240  160  770  790  850  830  820 2000  230  430\n",
      "  930  690  530  110  750  740  990 1000  290  120  780  200 1020  168\n",
      "  950 1140  890  522  832 1290   90  880  576  910  920  210  150  582\n",
      "  730  130]\n",
      "\n",
      "\n",
      "Unique Values in SqFt2ndFloor column:\n",
      "[   0 1515  540  770 1100 1340 1150 1120  480  360  430 1462  740 1810\n",
      "  880  720 1580 1360 2150  670  950  980  420 1730 1110 1320 1780  900\n",
      "  690 1431  510 1040  500 1140 1350  610  410  511  460  590 1060  570\n",
      "  800 1800 1610 1230 1477 2010  550  520 1620  390 1170 1210  530  780\n",
      " 1242 1180  680  840  330 1740  640  580 1940  760 1270  490 1200  650\n",
      " 1660 1399  710 1250 1767  890  930 1970  180 1130 1750  380  750 2240\n",
      "  370 1690  860  340 1760 1550  810 1010  450  441 1500 2000 1050 1160\n",
      "  400 1600 1440 1505  910 1540 1220  620  870  990 1030 1980  560 2060\n",
      " 1670 1330  440  470 1090 1290  660 1000 1400  630 1630 1720  790 1820\n",
      " 1190 1850  970 1410 1480 1700  940 2070 1020 1910  120  535 1260 1770\n",
      " 1310 1338 1510  600  475  920 1520 1384  960 1624  830 1070 1950  730\n",
      " 1300 1080 1830  290 1640 1430 1494 1570 1614 1447 1651 1530 2050 1352\n",
      " 1485 1790  350 2170  320 1680 1710  582  516 1930  700 2140 1860 1890\n",
      " 1490 1032 1390  917 1590 2270 1280 1460 1370 1650 2110 1535 1990 1840\n",
      " 1638 1240 2160 2107 1870 1380  820 2090 2120 1900  612  850  310 1283\n",
      " 1115 2040 1337 1920 1608 1960 2496 2100 1450 1678  522 1420 1470 1722\n",
      " 1281 1880 2850  576  706 3010 2560 1312  702 2390 1126]\n",
      "\n",
      "\n",
      "Unique Values in SqFtUpperFloor column:\n",
      "[   0  510  410  511  460  520  680  490  430  500  380  650  480  360\n",
      "  350  450  441  290  400  550  540  840  670  440  590  340  210  475\n",
      "  570  470  530  560  230 1030 1220  390  720  830  420  640  310  620\n",
      "  780  600  580  320  330  750  280  980  522 1040  100  700  790  576\n",
      "  220  610]\n",
      "\n",
      "\n",
      "Unique Values in SqFtTotLiving column:\n",
      "[3180 2200 2525 1820 2310 1970 1750 1430 1120 1540 1550 1730 1450 2110\n",
      " 2190 2220 4130 1090 1460 2500 1380 1410 1080 1290  730 1170 1320 1710\n",
      " 2487 2630 2550 3310 2410  840 2470  960 2330 1950 2900 2840 1840 1110\n",
      " 4010 2820 1370 3330 1650 2290 2260 2280  900 2740  790 3290 1740 2600\n",
      " 1330 2160 2373 1920 1220 3160 1910 1630 2730 2860 2992 1250 2240 1270\n",
      "  940 1520 2020 1400 1210  880  920 1480 1490 2080 1190 1660 1050 3260\n",
      " 2300 1200 3240 1560 1230 2800 1535 1360 1810 2180 1780 2690 1930 3700\n",
      "  830 3840 1440 1130 1020 1610 3188 3490  670 1870 2210 2334 1260 2950\n",
      " 2060  870 2440 1300 1040 1940 1500  910 3270 1580 1670 3130 1880 2560\n",
      " 3780 1530 3960 3070 1160 2100 1180 1060 2320 1680 1900 2822 1700 1390\n",
      "  980 2040 2350 2460  780 1988  950 1800 2790 1310 3010 2090 3300 2250\n",
      " 3170 2990 2510 2000 2680 2390 2400 3400 3030 1150 1990 1350 4400 1850\n",
      " 1690 2710 1510 2070 1760  610 1720 1304 3540 2380 2810 1890 2946 1830\n",
      " 3060 2120 2750 1420 2340 1980 1280  990 2720 2450 5250 2360  890 2880\n",
      " 3100 3220 1790 1100 2620 5270 1640 3020 2760 2890  800  590 2030 2980\n",
      " 2570 2660 1770  820 3150 1340 1620 1323 2850 3280 2050 1960 1140 2150\n",
      " 3620  750 3550  690 4040  720 4140 3710 3432 2270 1030  970 3570 2940\n",
      " 3230 2780 3860  810  650 3870 3580 2520 2910 3900 1600 2480 2640 3200\n",
      " 1240 2580 3250 2010 3670 2140 3350 1590 2530  740 1470 2770 1000 2370\n",
      " 2230 3520 2497 4030 3730 1010  700 1697 2970 2130 2670 2590  760 2490\n",
      " 2870 1570 2818  580 4630 2700 2420  930 3360 1408 4220  370 1675 3760\n",
      " 3460 3080 3050 3920 2170 2540 3120 3510  860 3320 5490 3430 3322 3370\n",
      " 3440 2610  850 2204 3242 2932 4090 3390  660 1070 3770 1476 3650 3630\n",
      " 1895 2112  640  770 3054 2608 3680 3040 3830 3396 3316 2354 5260 2920\n",
      " 2930 3140 2711 3340  710 2830 3610 2796 2650 4420 3185 3420 2536 3600\n",
      " 3090 3720 5040 3560 3210 3530 3750 1305 2784 1596 4150 4060 3950  620\n",
      " 1634 3690 1623 3660 1860 2960 1968 4490 4430  510 3190 3590 1627 3850\n",
      " 4730 4870 2612 4270 4990 4390  600 3000 3380 4110 1106 3105 2878 2430\n",
      " 3810 5121 2408 3640 4320 3470 3910 4530 1632  400  879 2535 3615 3790\n",
      " 3146 4670 5240 2733 3582 3890 3384 3880 3410 3500  570 4671 4000 3344\n",
      " 1808 5370 3480 3315 2658 3970 5410 1566 4602 4520 3110 2824 2143  300\n",
      " 3820  470 4440 1799 5300 4250 2304 1112 1564  638 3450 1054 5510  560\n",
      " 4180 4810 1562 3248 3145 1907 6695]\n",
      "\n",
      "\n",
      "Unique Values in SqFtTotBasement column:\n",
      "[1590  810    0  620 1310 1370 1020  390  340  520  900 1280 1150 1090\n",
      "  980 1420 1130  770  470  360  690  730 1660 1650 1140  500 1580  920\n",
      "  740  350 1180  950 1490  550  250 1010 1300  870  990  750 1100  960\n",
      "  650  780 1120  840  880  530 1270  540  970  560 1050 1060 1800  570\n",
      " 1250  890  860  790 1260 1340 1210  140 1470 1320 1380 1220  300  490\n",
      "  670 1360 1500 2060 1690  380 1080  440 1680  850  430  387  510  150\n",
      " 1450  600  320 1110  590 1620 1290 1560 1160 1330  700 1570 1460  480\n",
      " 1730 2420  190  680  930 1170 1830 1860  200 1400  460 1200 1000  580\n",
      " 1390 1350 1230  230  610 1070  370  410  450  710  420 1810 1040 1705\n",
      " 1240 1480  940  270 1670  330  120  170 2000  820  909  720  310 1030\n",
      " 1920 1540  240 1440 1890  830  640 1850 1190  290  800  857 1430  110\n",
      "  160  910 1530  660 1510 1600 1700 2650  522  280 1630 1960  760  400\n",
      " 2110  953 1740 1520 2050 1950 2210 1790 1780 1930 1710  630  220 2320\n",
      "  260 1940 1840 1610 2070  548 1900 2160 1410 1770 1640 1910 1820  210\n",
      " 1750   80 2030  864   90 1760 1880  872 1255 2540 1550 3070 2620  180\n",
      " 2020 2840  788 1720 2560 2200 2260 1970  736  100  676 1805 2080  828]\n",
      "\n",
      "\n",
      "Unique Values in SqFtFinBasement column:\n",
      "[1590  810    0  620  640  330  940 1150  770  250  470  360  430  400\n",
      "  970  800  550  820  570  920  450  440 1060  700  880  270 1140 1250\n",
      "  540 1300  200  150  760  240  480  980  460 1120  100 1010  420  260\n",
      "  560 1440  340 1210  860  190  310  180  600  660  140  710 1110 1220\n",
      "  300 1100 1020 1960 1380  380  850  500  350  387  170  510  160  680\n",
      "  730  320 1280 1160 1200  890  630 1670 1980  520  750 1580  780  650\n",
      " 1000 1080  840 1370  670  580 1390  230 1320  370  410  490 1130 1230\n",
      " 1490  790  720  950  900  530 2000 1050 1260  290  909 1180  110  280\n",
      "  870 1400 1290  590   50  930  120 1190 1540 1530 1620  960  610 1700\n",
      "  220  830  910 1040 1560  210 1310 1660 1510  390  130 1430 1270  953\n",
      "  990  396 1420  690 1350 1030 1450 1330 1810  740 2320 1500 1170 1600\n",
      " 1240  548 1410 1520 1090 1070 1570 1470 1690   90 1680 1340 1890 1750\n",
      "   80 1610 1480 1920 1245 2500  524 2330 2620 2020 1460 1550 1424  634\n",
      " 1730 1770 2260   40   60   72 1630 1800  466 1360 1805  828]\n",
      "\n",
      "\n",
      "Unique Values in SqFtGarageBasement column:\n",
      "[   0  530  300  520  240  130  260  570  440  500  290  460  420  470\n",
      "  220  640  190  160  430  210  380  450  600  350  760  400  270  200\n",
      "  280  180  170  330  490  690  390  550  590  340  580  510  730  770\n",
      "  670  310  620  250  120  616  230  610  480  560  360  320  660  780\n",
      "  140  700  720  150  650  740  370  484 1090  540  820  410  630   80\n",
      "  680  840   30  870  800  872   10 1020  154  980  750  900  664   60\n",
      " 1010  100]\n",
      "\n",
      "\n",
      "Unique Values in SqFtGarageAttached column:\n",
      "[ 600    0  400  440  460  360  420  280  340  540  480  190  760  200\n",
      "  670  380  379  430  570  489  240  580  290  310  500  640  450  830\n",
      "  590   90  418  220  230  530  550  250  320  663  880  180   80  840\n",
      "  260  560  510   50  300  720  620  130  160  520  610  780  690  820\n",
      "  990  390  100  730  810  270  350  120  452   70  860  660  710  790\n",
      "  150  680 1300  370  930  140  399  210  700  191  750  397  410  498\n",
      "  650  784  740  470   40  490  478  406  850  864  800  258  484  652\n",
      "  960 1030  433  890 1010  950  255   20  170  525  330  630   60  644\n",
      "  980 1400 1180  596 1231  900 1830  870  592  287  388  691 1000  458\n",
      "  368  276  770 1120  576  744 1630  273]\n",
      "\n",
      "\n",
      "Unique Values in DaylightBasement column:\n",
      "[1 0]\n",
      "\n",
      "\n",
      "Unique Values in SqFtOpenPorch column:\n",
      "[  50    0  167   40  190  110   90  160   30   10  220   45  300  240\n",
      "  460  200   80  180  210   70  290   60  112   36  230  130   20  100\n",
      "   25  170  198  250  150  310  120  260   72  140  145  400  280  340\n",
      "  600  420  159  330  390  350  224  380  520  270  430  470  360  282\n",
      "  510  410  370  192  550   65  132  144  450  395   77  480   84  660\n",
      "  940  195  223  214  182   35  560   55  154  186  630   78  426  490\n",
      "  580  256  105   12  228  440 1049  197  500  540  320  258 1060  183\n",
      "  700  188  165    7  102  162  640  740   56   96  184]\n",
      "\n",
      "\n",
      "Unique Values in SqFtEnclosedPorch column:\n",
      "[  0 130 150  60 210  50  40  70  80 100 110 230 160 220 189 190 360  30\n",
      " 260 140 120 250 290 200 330 180  20 280  90 560 154 320 370 170 240 470\n",
      " 300 420 380 400 440 620 350]\n",
      "\n",
      "\n",
      "Unique Values in SqFtDeck column:\n",
      "[ 220  340    0  100  320  150  390  190  230  470  400  140  260  520\n",
      "  130  330  590   80  240  170  210  120  200  460  110   50  160   60\n",
      "  250  180  360  510  420  370   70  440  300  490  760  280  310  350\n",
      "  580  430  690  720  290  500  660  480  380  600  620  252  309   40\n",
      "  410  450  610   85  670  800  530  570   10 1060   20  216    1  228\n",
      "  560  540  900  710  910  417  630  700  740  640  870  472   90   65\n",
      "  830  850   96 1290  475   64  270  820  154  706  730  326  650 1020\n",
      "  312   84 1000  374  550  790  456  880  256  810  980 1130  292 1940\n",
      "  186  930 1250  990  750 1700  305 1480  146  132  840   30  244   78\n",
      "  770  890  195  960  225  182  680  970  285   54  920  396  780 1600\n",
      " 1170]\n",
      "\n",
      "\n",
      "Unique Values in BrickStone column:\n",
      "[  0 100  65  80  40  10  70  15  30  16  20  25  90  52  75  50  96  35\n",
      "  78  88  18  55  66  38  60  22  85  92  45  24  17  19   5  46   3  95\n",
      "  28]\n",
      "\n",
      "\n",
      "Unique Values in Bedrooms column:\n",
      "[6 4 3 2 5 1 7 0 8]\n",
      "\n",
      "\n",
      "Unique Values in BathHalfCount column:\n",
      "[0 1 2 3]\n",
      "\n",
      "\n",
      "Unique Values in Bath3qtrCount column:\n",
      "[2 0 1 3 4]\n",
      "\n",
      "\n",
      "Unique Values in BathFullCount column:\n",
      "[1 2 4 3 0 5]\n",
      "\n",
      "\n",
      "Unique Values in YrBuilt column:\n",
      "[1965 1945 2019 2016 1967 1960 1922 1944 1900 1921 1954 1903 2018 1952\n",
      " 1910 1953 1927 1963 1948 1971 1918 1928 1969 1957 1980 1973 1949 1943\n",
      " 1925 2017 1924 1975 1947 1915 1994 1956 2008 1961 1941 1908 1962 1958\n",
      " 1914 1930 1946 1968 1905 2015 1959 1950 1977 1929 1976 1966 1923 1937\n",
      " 1981 1964 2007 1951 1979 1916 1920 1982 1970 1901 1978 1974 1912 1926\n",
      " 1955 1942 1984 1932 2006 1972 1940 1919 1936 1913 2000 1902 1996 1931\n",
      " 1906 1907 2010 1993 1990 1909 2004 1935 1904 2003 2005 1911 1917 1987\n",
      " 1997 1938 1983 1988 1999 1939 1989 1934 1998 2012 1933 1985 1995 2009\n",
      " 2001 1986 2014 2011 1991 1992 2013 2002]\n",
      "\n",
      "\n",
      "Unique Values in Longitude column:\n",
      "[-122.1963986 -122.3619131 -122.1566841 ... -122.2183489 -122.3828738\n",
      " -122.1095675]\n",
      "\n",
      "\n",
      "Unique Values in Latitude column:\n",
      "[47.3361183 47.5098741 47.4375567 ... 47.730287  47.5710782 47.7102039]\n",
      "\n",
      "\n"
     ]
    }
   ],
   "source": [
    "def check_column_values(df):\n",
    "    for column in df.columns:\n",
    "        print(f'Unique Values in {column} column:')\n",
    "        print(df[column].unique())\n",
    "        print('\\n')\n",
    "\n",
    "check_column_values(df)"
   ]
  },
  {
   "cell_type": "code",
   "execution_count": 8,
   "metadata": {},
   "outputs": [
    {
     "data": {
      "text/html": [
       "<style type=\"text/css\">\n",
       "#T_d6d9e_row0_col0, #T_d6d9e_row1_col1, #T_d6d9e_row2_col2, #T_d6d9e_row3_col3, #T_d6d9e_row4_col4, #T_d6d9e_row5_col5, #T_d6d9e_row6_col6, #T_d6d9e_row7_col7, #T_d6d9e_row8_col8, #T_d6d9e_row9_col9, #T_d6d9e_row10_col10, #T_d6d9e_row11_col11, #T_d6d9e_row12_col12, #T_d6d9e_row13_col13, #T_d6d9e_row14_col14, #T_d6d9e_row15_col15, #T_d6d9e_row16_col16, #T_d6d9e_row17_col17, #T_d6d9e_row18_col18, #T_d6d9e_row19_col19, #T_d6d9e_row20_col20, #T_d6d9e_row21_col21 {\n",
       "  background-color: #b40426;\n",
       "  color: #f1f1f1;\n",
       "}\n",
       "#T_d6d9e_row0_col1, #T_d6d9e_row20_col15 {\n",
       "  background-color: #b9d0f9;\n",
       "  color: #000000;\n",
       "}\n",
       "#T_d6d9e_row0_col2, #T_d6d9e_row0_col9, #T_d6d9e_row14_col1, #T_d6d9e_row15_col2, #T_d6d9e_row17_col1, #T_d6d9e_row19_col16 {\n",
       "  background-color: #a1c0ff;\n",
       "  color: #000000;\n",
       "}\n",
       "#T_d6d9e_row0_col3, #T_d6d9e_row0_col21, #T_d6d9e_row7_col5 {\n",
       "  background-color: #e1dad6;\n",
       "  color: #000000;\n",
       "}\n",
       "#T_d6d9e_row0_col4, #T_d6d9e_row5_col8, #T_d6d9e_row13_col8, #T_d6d9e_row17_col3 {\n",
       "  background-color: #9dbdff;\n",
       "  color: #000000;\n",
       "}\n",
       "#T_d6d9e_row0_col5, #T_d6d9e_row5_col9, #T_d6d9e_row9_col1, #T_d6d9e_row20_col1 {\n",
       "  background-color: #e7d7ce;\n",
       "  color: #000000;\n",
       "}\n",
       "#T_d6d9e_row0_col6, #T_d6d9e_row3_col15, #T_d6d9e_row9_col19 {\n",
       "  background-color: #bad0f8;\n",
       "  color: #000000;\n",
       "}\n",
       "#T_d6d9e_row0_col7, #T_d6d9e_row0_col19, #T_d6d9e_row7_col13 {\n",
       "  background-color: #aac7fd;\n",
       "  color: #000000;\n",
       "}\n",
       "#T_d6d9e_row0_col8, #T_d6d9e_row8_col21, #T_d6d9e_row12_col2, #T_d6d9e_row16_col1 {\n",
       "  background-color: #8fb1fe;\n",
       "  color: #000000;\n",
       "}\n",
       "#T_d6d9e_row0_col10, #T_d6d9e_row9_col17, #T_d6d9e_row16_col15, #T_d6d9e_row21_col10 {\n",
       "  background-color: #88abfd;\n",
       "  color: #000000;\n",
       "}\n",
       "#T_d6d9e_row0_col11, #T_d6d9e_row19_col8 {\n",
       "  background-color: #9ebeff;\n",
       "  color: #000000;\n",
       "}\n",
       "#T_d6d9e_row0_col12, #T_d6d9e_row6_col16, #T_d6d9e_row14_col13, #T_d6d9e_row21_col11 {\n",
       "  background-color: #4e68d8;\n",
       "  color: #f1f1f1;\n",
       "}\n",
       "#T_d6d9e_row0_col13, #T_d6d9e_row5_col16, #T_d6d9e_row6_col21, #T_d6d9e_row8_col19, #T_d6d9e_row14_col2, #T_d6d9e_row16_col5, #T_d6d9e_row18_col0, #T_d6d9e_row19_col5 {\n",
       "  background-color: #9bbcff;\n",
       "  color: #000000;\n",
       "}\n",
       "#T_d6d9e_row0_col14, #T_d6d9e_row2_col4, #T_d6d9e_row8_col18, #T_d6d9e_row11_col0 {\n",
       "  background-color: #7ea1fa;\n",
       "  color: #f1f1f1;\n",
       "}\n",
       "#T_d6d9e_row0_col15 {\n",
       "  background-color: #afcafc;\n",
       "  color: #000000;\n",
       "}\n",
       "#T_d6d9e_row0_col16, #T_d6d9e_row0_col20, #T_d6d9e_row5_col13, #T_d6d9e_row7_col19, #T_d6d9e_row21_col3 {\n",
       "  background-color: #82a6fb;\n",
       "  color: #f1f1f1;\n",
       "}\n",
       "#T_d6d9e_row0_col17, #T_d6d9e_row15_col17 {\n",
       "  background-color: #b2ccfb;\n",
       "  color: #000000;\n",
       "}\n",
       "#T_d6d9e_row0_col18, #T_d6d9e_row18_col9 {\n",
       "  background-color: #ccd9ed;\n",
       "  color: #000000;\n",
       "}\n",
       "#T_d6d9e_row1_col0, #T_d6d9e_row7_col20, #T_d6d9e_row8_col13, #T_d6d9e_row8_col14 {\n",
       "  background-color: #7396f5;\n",
       "  color: #f1f1f1;\n",
       "}\n",
       "#T_d6d9e_row1_col2, #T_d6d9e_row6_col18, #T_d6d9e_row7_col21, #T_d6d9e_row12_col3, #T_d6d9e_row13_col3 {\n",
       "  background-color: #85a8fc;\n",
       "  color: #f1f1f1;\n",
       "}\n",
       "#T_d6d9e_row1_col3, #T_d6d9e_row12_col10, #T_d6d9e_row12_col21, #T_d6d9e_row13_col5, #T_d6d9e_row13_col16, #T_d6d9e_row20_col10 {\n",
       "  background-color: #7093f3;\n",
       "  color: #f1f1f1;\n",
       "}\n",
       "#T_d6d9e_row1_col4, #T_d6d9e_row1_col12, #T_d6d9e_row2_col19, #T_d6d9e_row3_col6, #T_d6d9e_row3_col7, #T_d6d9e_row4_col1, #T_d6d9e_row4_col5, #T_d6d9e_row4_col15, #T_d6d9e_row6_col3, #T_d6d9e_row8_col9, #T_d6d9e_row9_col8, #T_d6d9e_row9_col10, #T_d6d9e_row9_col12, #T_d6d9e_row9_col21, #T_d6d9e_row11_col13, #T_d6d9e_row12_col0, #T_d6d9e_row13_col11, #T_d6d9e_row17_col16, #T_d6d9e_row17_col18, #T_d6d9e_row18_col17, #T_d6d9e_row19_col2, #T_d6d9e_row19_col14, #T_d6d9e_row21_col20 {\n",
       "  background-color: #3b4cc0;\n",
       "  color: #f1f1f1;\n",
       "}\n",
       "#T_d6d9e_row1_col5, #T_d6d9e_row3_col18, #T_d6d9e_row8_col6 {\n",
       "  background-color: #f2c9b4;\n",
       "  color: #000000;\n",
       "}\n",
       "#T_d6d9e_row1_col6, #T_d6d9e_row11_col1, #T_d6d9e_row17_col8, #T_d6d9e_row18_col1 {\n",
       "  background-color: #bcd2f7;\n",
       "  color: #000000;\n",
       "}\n",
       "#T_d6d9e_row1_col7, #T_d6d9e_row3_col4, #T_d6d9e_row11_col19, #T_d6d9e_row11_col20, #T_d6d9e_row16_col9, #T_d6d9e_row17_col5, #T_d6d9e_row18_col20 {\n",
       "  background-color: #a6c4fe;\n",
       "  color: #000000;\n",
       "}\n",
       "#T_d6d9e_row1_col8, #T_d6d9e_row3_col20, #T_d6d9e_row8_col1, #T_d6d9e_row15_col11, #T_d6d9e_row17_col13, #T_d6d9e_row21_col4 {\n",
       "  background-color: #a2c1ff;\n",
       "  color: #000000;\n",
       "}\n",
       "#T_d6d9e_row1_col9 {\n",
       "  background-color: #e6d7cf;\n",
       "  color: #000000;\n",
       "}\n",
       "#T_d6d9e_row1_col10, #T_d6d9e_row2_col11, #T_d6d9e_row10_col16, #T_d6d9e_row11_col21 {\n",
       "  background-color: #6485ec;\n",
       "  color: #f1f1f1;\n",
       "}\n",
       "#T_d6d9e_row1_col11, #T_d6d9e_row5_col10, #T_d6d9e_row15_col19, #T_d6d9e_row17_col15, #T_d6d9e_row21_col2 {\n",
       "  background-color: #98b9ff;\n",
       "  color: #000000;\n",
       "}\n",
       "#T_d6d9e_row1_col13, #T_d6d9e_row10_col12, #T_d6d9e_row14_col20, #T_d6d9e_row17_col12, #T_d6d9e_row20_col0, #T_d6d9e_row21_col16 {\n",
       "  background-color: #506bda;\n",
       "  color: #f1f1f1;\n",
       "}\n",
       "#T_d6d9e_row1_col14, #T_d6d9e_row16_col13, #T_d6d9e_row18_col2 {\n",
       "  background-color: #80a3fa;\n",
       "  color: #f1f1f1;\n",
       "}\n",
       "#T_d6d9e_row1_col15, #T_d6d9e_row3_col9 {\n",
       "  background-color: #dfdbd9;\n",
       "  color: #000000;\n",
       "}\n",
       "#T_d6d9e_row1_col16, #T_d6d9e_row1_col21, #T_d6d9e_row7_col3, #T_d6d9e_row14_col0 {\n",
       "  background-color: #536edd;\n",
       "  color: #f1f1f1;\n",
       "}\n",
       "#T_d6d9e_row1_col17, #T_d6d9e_row2_col6, #T_d6d9e_row6_col2, #T_d6d9e_row20_col17 {\n",
       "  background-color: #97b8ff;\n",
       "  color: #000000;\n",
       "}\n",
       "#T_d6d9e_row1_col18, #T_d6d9e_row6_col5, #T_d6d9e_row8_col17, #T_d6d9e_row9_col11, #T_d6d9e_row20_col5 {\n",
       "  background-color: #b3cdfb;\n",
       "  color: #000000;\n",
       "}\n",
       "#T_d6d9e_row1_col19, #T_d6d9e_row6_col19, #T_d6d9e_row14_col12, #T_d6d9e_row14_col16, #T_d6d9e_row19_col6 {\n",
       "  background-color: #485fd1;\n",
       "  color: #f1f1f1;\n",
       "}\n",
       "#T_d6d9e_row1_col20 {\n",
       "  background-color: #dadce0;\n",
       "  color: #000000;\n",
       "}\n",
       "#T_d6d9e_row2_col0, #T_d6d9e_row6_col20, #T_d6d9e_row7_col16, #T_d6d9e_row10_col9, #T_d6d9e_row14_col5, #T_d6d9e_row14_col15 {\n",
       "  background-color: #5875e1;\n",
       "  color: #f1f1f1;\n",
       "}\n",
       "#T_d6d9e_row2_col1, #T_d6d9e_row18_col8 {\n",
       "  background-color: #89acfd;\n",
       "  color: #000000;\n",
       "}\n",
       "#T_d6d9e_row2_col3, #T_d6d9e_row7_col4, #T_d6d9e_row12_col20, #T_d6d9e_row15_col14 {\n",
       "  background-color: #5f7fe8;\n",
       "  color: #f1f1f1;\n",
       "}\n",
       "#T_d6d9e_row2_col5, #T_d6d9e_row8_col5 {\n",
       "  background-color: #6282ea;\n",
       "  color: #f1f1f1;\n",
       "}\n",
       "#T_d6d9e_row2_col7, #T_d6d9e_row4_col14, #T_d6d9e_row14_col19, #T_d6d9e_row15_col13 {\n",
       "  background-color: #5b7ae5;\n",
       "  color: #f1f1f1;\n",
       "}\n",
       "#T_d6d9e_row2_col8, #T_d6d9e_row3_col1, #T_d6d9e_row7_col2, #T_d6d9e_row8_col20, #T_d6d9e_row13_col2, #T_d6d9e_row14_col17 {\n",
       "  background-color: #7597f6;\n",
       "  color: #f1f1f1;\n",
       "}\n",
       "#T_d6d9e_row2_col9, #T_d6d9e_row5_col14, #T_d6d9e_row7_col9, #T_d6d9e_row8_col2, #T_d6d9e_row11_col8, #T_d6d9e_row11_col16, #T_d6d9e_row13_col9, #T_d6d9e_row19_col15, #T_d6d9e_row20_col6, #T_d6d9e_row21_col18 {\n",
       "  background-color: #7295f4;\n",
       "  color: #f1f1f1;\n",
       "}\n",
       "#T_d6d9e_row2_col10, #T_d6d9e_row3_col10, #T_d6d9e_row5_col12, #T_d6d9e_row6_col9, #T_d6d9e_row8_col11, #T_d6d9e_row9_col13, #T_d6d9e_row12_col5 {\n",
       "  background-color: #445acc;\n",
       "  color: #f1f1f1;\n",
       "}\n",
       "#T_d6d9e_row2_col12, #T_d6d9e_row6_col4, #T_d6d9e_row7_col11, #T_d6d9e_row9_col14, #T_d6d9e_row10_col0, #T_d6d9e_row12_col11 {\n",
       "  background-color: #5572df;\n",
       "  color: #f1f1f1;\n",
       "}\n",
       "#T_d6d9e_row2_col13, #T_d6d9e_row2_col16, #T_d6d9e_row6_col12, #T_d6d9e_row7_col12, #T_d6d9e_row19_col12, #T_d6d9e_row20_col14, #T_d6d9e_row21_col12 {\n",
       "  background-color: #4a63d3;\n",
       "  color: #f1f1f1;\n",
       "}\n",
       "#T_d6d9e_row2_col14, #T_d6d9e_row10_col15, #T_d6d9e_row13_col1, #T_d6d9e_row16_col20, #T_d6d9e_row21_col19 {\n",
       "  background-color: #7da0f9;\n",
       "  color: #f1f1f1;\n",
       "}\n",
       "#T_d6d9e_row2_col15, #T_d6d9e_row4_col2, #T_d6d9e_row7_col0, #T_d6d9e_row13_col0 {\n",
       "  background-color: #7b9ff9;\n",
       "  color: #f1f1f1;\n",
       "}\n",
       "#T_d6d9e_row2_col17, #T_d6d9e_row11_col7, #T_d6d9e_row13_col12, #T_d6d9e_row15_col21 {\n",
       "  background-color: #6687ed;\n",
       "  color: #f1f1f1;\n",
       "}\n",
       "#T_d6d9e_row2_col18, #T_d6d9e_row6_col0, #T_d6d9e_row15_col16, #T_d6d9e_row16_col21, #T_d6d9e_row21_col13 {\n",
       "  background-color: #779af7;\n",
       "  color: #f1f1f1;\n",
       "}\n",
       "#T_d6d9e_row2_col20, #T_d6d9e_row3_col12 {\n",
       "  background-color: #4c66d6;\n",
       "  color: #f1f1f1;\n",
       "}\n",
       "#T_d6d9e_row2_col21, #T_d6d9e_row7_col14, #T_d6d9e_row16_col6, #T_d6d9e_row17_col20 {\n",
       "  background-color: #86a9fc;\n",
       "  color: #f1f1f1;\n",
       "}\n",
       "#T_d6d9e_row3_col0, #T_d6d9e_row8_col7, #T_d6d9e_row20_col3 {\n",
       "  background-color: #b6cefa;\n",
       "  color: #000000;\n",
       "}\n",
       "#T_d6d9e_row3_col2, #T_d6d9e_row12_col14, #T_d6d9e_row14_col10, #T_d6d9e_row16_col14 {\n",
       "  background-color: #6180e9;\n",
       "  color: #f1f1f1;\n",
       "}\n",
       "#T_d6d9e_row3_col5, #T_d6d9e_row5_col7 {\n",
       "  background-color: #edd2c3;\n",
       "  color: #000000;\n",
       "}\n",
       "#T_d6d9e_row3_col8, #T_d6d9e_row8_col15, #T_d6d9e_row14_col3, #T_d6d9e_row15_col4, #T_d6d9e_row18_col21 {\n",
       "  background-color: #6788ee;\n",
       "  color: #f1f1f1;\n",
       "}\n",
       "#T_d6d9e_row3_col11, #T_d6d9e_row15_col3, #T_d6d9e_row16_col3 {\n",
       "  background-color: #d2dbe8;\n",
       "  color: #000000;\n",
       "}\n",
       "#T_d6d9e_row3_col13, #T_d6d9e_row11_col14, #T_d6d9e_row13_col15, #T_d6d9e_row17_col14, #T_d6d9e_row20_col4 {\n",
       "  background-color: #5d7ce6;\n",
       "  color: #f1f1f1;\n",
       "}\n",
       "#T_d6d9e_row3_col14, #T_d6d9e_row21_col5 {\n",
       "  background-color: #465ecf;\n",
       "  color: #f1f1f1;\n",
       "}\n",
       "#T_d6d9e_row3_col16, #T_d6d9e_row21_col6 {\n",
       "  background-color: #abc8fd;\n",
       "  color: #000000;\n",
       "}\n",
       "#T_d6d9e_row3_col17, #T_d6d9e_row14_col8, #T_d6d9e_row16_col4, #T_d6d9e_row17_col4, #T_d6d9e_row19_col20, #T_d6d9e_row21_col17 {\n",
       "  background-color: #96b7ff;\n",
       "  color: #000000;\n",
       "}\n",
       "#T_d6d9e_row3_col19, #T_d6d9e_row5_col1, #T_d6d9e_row19_col3 {\n",
       "  background-color: #f7b396;\n",
       "  color: #000000;\n",
       "}\n",
       "#T_d6d9e_row3_col21, #T_d6d9e_row9_col2, #T_d6d9e_row9_col16, #T_d6d9e_row10_col20, #T_d6d9e_row14_col18, #T_d6d9e_row16_col0 {\n",
       "  background-color: #6f92f3;\n",
       "  color: #f1f1f1;\n",
       "}\n",
       "#T_d6d9e_row4_col0, #T_d6d9e_row6_col11, #T_d6d9e_row11_col10 {\n",
       "  background-color: #4f69d9;\n",
       "  color: #f1f1f1;\n",
       "}\n",
       "#T_d6d9e_row4_col3, #T_d6d9e_row16_col8, #T_d6d9e_row21_col8 {\n",
       "  background-color: #a3c2fe;\n",
       "  color: #000000;\n",
       "}\n",
       "#T_d6d9e_row4_col6, #T_d6d9e_row21_col9, #T_d6d9e_row21_col15 {\n",
       "  background-color: #516ddb;\n",
       "  color: #f1f1f1;\n",
       "}\n",
       "#T_d6d9e_row4_col7, #T_d6d9e_row8_col12 {\n",
       "  background-color: #4358cb;\n",
       "  color: #f1f1f1;\n",
       "}\n",
       "#T_d6d9e_row4_col8, #T_d6d9e_row8_col4, #T_d6d9e_row10_col18, #T_d6d9e_row11_col4, #T_d6d9e_row12_col18 {\n",
       "  background-color: #7a9df8;\n",
       "  color: #f1f1f1;\n",
       "}\n",
       "#T_d6d9e_row4_col9, #T_d6d9e_row9_col4, #T_d6d9e_row10_col4, #T_d6d9e_row18_col10, #T_d6d9e_row20_col2 {\n",
       "  background-color: #688aef;\n",
       "  color: #f1f1f1;\n",
       "}\n",
       "#T_d6d9e_row4_col10, #T_d6d9e_row4_col11, #T_d6d9e_row12_col16, #T_d6d9e_row13_col20, #T_d6d9e_row16_col12, #T_d6d9e_row19_col1 {\n",
       "  background-color: #4b64d5;\n",
       "  color: #f1f1f1;\n",
       "}\n",
       "#T_d6d9e_row4_col12, #T_d6d9e_row10_col2, #T_d6d9e_row10_col3, #T_d6d9e_row20_col16 {\n",
       "  background-color: #5e7de7;\n",
       "  color: #f1f1f1;\n",
       "}\n",
       "#T_d6d9e_row4_col13, #T_d6d9e_row15_col8, #T_d6d9e_row20_col8 {\n",
       "  background-color: #92b4fe;\n",
       "  color: #000000;\n",
       "}\n",
       "#T_d6d9e_row4_col16, #T_d6d9e_row10_col14, #T_d6d9e_row12_col15 {\n",
       "  background-color: #5a78e4;\n",
       "  color: #f1f1f1;\n",
       "}\n",
       "#T_d6d9e_row4_col17, #T_d6d9e_row15_col10 {\n",
       "  background-color: #8badfd;\n",
       "  color: #000000;\n",
       "}\n",
       "#T_d6d9e_row4_col18, #T_d6d9e_row10_col1, #T_d6d9e_row12_col8, #T_d6d9e_row12_col17, #T_d6d9e_row14_col4, #T_d6d9e_row16_col11, #T_d6d9e_row19_col11, #T_d6d9e_row21_col7 {\n",
       "  background-color: #81a4fb;\n",
       "  color: #f1f1f1;\n",
       "}\n",
       "#T_d6d9e_row4_col19 {\n",
       "  background-color: #d6dce4;\n",
       "  color: #000000;\n",
       "}\n",
       "#T_d6d9e_row4_col20, #T_d6d9e_row10_col11 {\n",
       "  background-color: #3e51c5;\n",
       "  color: #f1f1f1;\n",
       "}\n",
       "#T_d6d9e_row4_col21, #T_d6d9e_row10_col21, #T_d6d9e_row11_col2, #T_d6d9e_row13_col21, #T_d6d9e_row14_col7, #T_d6d9e_row18_col6 {\n",
       "  background-color: #8db0fe;\n",
       "  color: #000000;\n",
       "}\n",
       "#T_d6d9e_row5_col0 {\n",
       "  background-color: #e0dbd8;\n",
       "  color: #000000;\n",
       "}\n",
       "#T_d6d9e_row5_col2, #T_d6d9e_row6_col14, #T_d6d9e_row12_col4, #T_d6d9e_row16_col18, #T_d6d9e_row20_col11 {\n",
       "  background-color: #9abbff;\n",
       "  color: #000000;\n",
       "}\n",
       "#T_d6d9e_row5_col3 {\n",
       "  background-color: #f6bea4;\n",
       "  color: #000000;\n",
       "}\n",
       "#T_d6d9e_row5_col4, #T_d6d9e_row10_col5, #T_d6d9e_row11_col6, #T_d6d9e_row12_col1, #T_d6d9e_row12_col9, #T_d6d9e_row14_col9, #T_d6d9e_row16_col7 {\n",
       "  background-color: #799cf8;\n",
       "  color: #f1f1f1;\n",
       "}\n",
       "#T_d6d9e_row5_col6, #T_d6d9e_row8_col10 {\n",
       "  background-color: #d7dce3;\n",
       "  color: #000000;\n",
       "}\n",
       "#T_d6d9e_row5_col11, #T_d6d9e_row17_col19 {\n",
       "  background-color: #cdd9ec;\n",
       "  color: #000000;\n",
       "}\n",
       "#T_d6d9e_row5_col15 {\n",
       "  background-color: #f7ad90;\n",
       "  color: #000000;\n",
       "}\n",
       "#T_d6d9e_row5_col17, #T_d6d9e_row5_col20, #T_d6d9e_row7_col8, #T_d6d9e_row9_col5, #T_d6d9e_row19_col17 {\n",
       "  background-color: #c9d7f0;\n",
       "  color: #000000;\n",
       "}\n",
       "#T_d6d9e_row5_col18 {\n",
       "  background-color: #f5c2aa;\n",
       "  color: #000000;\n",
       "}\n",
       "#T_d6d9e_row5_col19 {\n",
       "  background-color: #c6d6f1;\n",
       "  color: #000000;\n",
       "}\n",
       "#T_d6d9e_row5_col21, #T_d6d9e_row17_col2 {\n",
       "  background-color: #6e90f2;\n",
       "  color: #f1f1f1;\n",
       "}\n",
       "#T_d6d9e_row6_col1, #T_d6d9e_row13_col19 {\n",
       "  background-color: #bfd3f6;\n",
       "  color: #000000;\n",
       "}\n",
       "#T_d6d9e_row6_col7 {\n",
       "  background-color: #eb7d62;\n",
       "  color: #f1f1f1;\n",
       "}\n",
       "#T_d6d9e_row6_col8 {\n",
       "  background-color: #f3c8b2;\n",
       "  color: #000000;\n",
       "}\n",
       "#T_d6d9e_row6_col10 {\n",
       "  background-color: #f4c5ad;\n",
       "  color: #000000;\n",
       "}\n",
       "#T_d6d9e_row6_col13, #T_d6d9e_row17_col9 {\n",
       "  background-color: #93b5fe;\n",
       "  color: #000000;\n",
       "}\n",
       "#T_d6d9e_row6_col15 {\n",
       "  background-color: #a7c5fe;\n",
       "  color: #000000;\n",
       "}\n",
       "#T_d6d9e_row6_col17, #T_d6d9e_row7_col1, #T_d6d9e_row13_col17, #T_d6d9e_row19_col9 {\n",
       "  background-color: #bbd1f8;\n",
       "  color: #000000;\n",
       "}\n",
       "#T_d6d9e_row7_col6 {\n",
       "  background-color: #e8765c;\n",
       "  color: #f1f1f1;\n",
       "}\n",
       "#T_d6d9e_row7_col10, #T_d6d9e_row10_col7 {\n",
       "  background-color: #f6bda2;\n",
       "  color: #000000;\n",
       "}\n",
       "#T_d6d9e_row7_col15, #T_d6d9e_row15_col20 {\n",
       "  background-color: #c1d4f4;\n",
       "  color: #000000;\n",
       "}\n",
       "#T_d6d9e_row7_col17, #T_d6d9e_row10_col17 {\n",
       "  background-color: #d4dbe6;\n",
       "  color: #000000;\n",
       "}\n",
       "#T_d6d9e_row7_col18, #T_d6d9e_row19_col13 {\n",
       "  background-color: #9fbfff;\n",
       "  color: #000000;\n",
       "}\n",
       "#T_d6d9e_row8_col0 {\n",
       "  background-color: #3f53c6;\n",
       "  color: #f1f1f1;\n",
       "}\n",
       "#T_d6d9e_row8_col3, #T_d6d9e_row17_col11, #T_d6d9e_row18_col13, #T_d6d9e_row19_col0 {\n",
       "  background-color: #6384eb;\n",
       "  color: #f1f1f1;\n",
       "}\n",
       "#T_d6d9e_row8_col16, #T_d6d9e_row19_col7, #T_d6d9e_row19_col21, #T_d6d9e_row21_col1 {\n",
       "  background-color: #6a8bef;\n",
       "  color: #f1f1f1;\n",
       "}\n",
       "#T_d6d9e_row9_col0, #T_d6d9e_row14_col11 {\n",
       "  background-color: #5470de;\n",
       "  color: #f1f1f1;\n",
       "}\n",
       "#T_d6d9e_row9_col3 {\n",
       "  background-color: #dedcdb;\n",
       "  color: #000000;\n",
       "}\n",
       "#T_d6d9e_row9_col6, #T_d6d9e_row20_col12 {\n",
       "  background-color: #4055c8;\n",
       "  color: #f1f1f1;\n",
       "}\n",
       "#T_d6d9e_row9_col7, #T_d6d9e_row13_col14, #T_d6d9e_row18_col14 {\n",
       "  background-color: #5673e0;\n",
       "  color: #f1f1f1;\n",
       "}\n",
       "#T_d6d9e_row9_col15, #T_d6d9e_row10_col13, #T_d6d9e_row10_col19, #T_d6d9e_row13_col4, #T_d6d9e_row13_col7 {\n",
       "  background-color: #b7cff9;\n",
       "  color: #000000;\n",
       "}\n",
       "#T_d6d9e_row9_col18, #T_d6d9e_row21_col0 {\n",
       "  background-color: #c5d6f2;\n",
       "  color: #000000;\n",
       "}\n",
       "#T_d6d9e_row9_col20, #T_d6d9e_row15_col18 {\n",
       "  background-color: #e3d9d3;\n",
       "  color: #000000;\n",
       "}\n",
       "#T_d6d9e_row10_col6 {\n",
       "  background-color: #f7bca1;\n",
       "  color: #000000;\n",
       "}\n",
       "#T_d6d9e_row10_col8 {\n",
       "  background-color: #e4d9d2;\n",
       "  color: #000000;\n",
       "}\n",
       "#T_d6d9e_row11_col3 {\n",
       "  background-color: #e5d8d1;\n",
       "  color: #000000;\n",
       "}\n",
       "#T_d6d9e_row11_col5, #T_d6d9e_row13_col10 {\n",
       "  background-color: #c3d5f4;\n",
       "  color: #000000;\n",
       "}\n",
       "#T_d6d9e_row11_col9 {\n",
       "  background-color: #cfdaea;\n",
       "  color: #000000;\n",
       "}\n",
       "#T_d6d9e_row11_col12 {\n",
       "  background-color: #455cce;\n",
       "  color: #f1f1f1;\n",
       "}\n",
       "#T_d6d9e_row11_col15, #T_d6d9e_row19_col10 {\n",
       "  background-color: #a5c3fe;\n",
       "  color: #000000;\n",
       "}\n",
       "#T_d6d9e_row11_col17, #T_d6d9e_row12_col6, #T_d6d9e_row12_col19, #T_d6d9e_row13_col18, #T_d6d9e_row14_col21, #T_d6d9e_row16_col2, #T_d6d9e_row16_col10 {\n",
       "  background-color: #84a7fc;\n",
       "  color: #f1f1f1;\n",
       "}\n",
       "#T_d6d9e_row11_col18 {\n",
       "  background-color: #c7d7f0;\n",
       "  color: #000000;\n",
       "}\n",
       "#T_d6d9e_row12_col7, #T_d6d9e_row16_col17, #T_d6d9e_row18_col16 {\n",
       "  background-color: #6b8df0;\n",
       "  color: #f1f1f1;\n",
       "}\n",
       "#T_d6d9e_row12_col13, #T_d6d9e_row17_col0, #T_d6d9e_row20_col7, #T_d6d9e_row21_col14 {\n",
       "  background-color: #7699f6;\n",
       "  color: #f1f1f1;\n",
       "}\n",
       "#T_d6d9e_row13_col6, #T_d6d9e_row14_col6, #T_d6d9e_row20_col18 {\n",
       "  background-color: #b5cdfa;\n",
       "  color: #000000;\n",
       "}\n",
       "#T_d6d9e_row15_col0, #T_d6d9e_row18_col7 {\n",
       "  background-color: #90b2fe;\n",
       "  color: #000000;\n",
       "}\n",
       "#T_d6d9e_row15_col1 {\n",
       "  background-color: #efcfbf;\n",
       "  color: #000000;\n",
       "}\n",
       "#T_d6d9e_row15_col5 {\n",
       "  background-color: #f7b497;\n",
       "  color: #000000;\n",
       "}\n",
       "#T_d6d9e_row15_col6 {\n",
       "  background-color: #c4d5f3;\n",
       "  color: #000000;\n",
       "}\n",
       "#T_d6d9e_row15_col7, #T_d6d9e_row17_col7, #T_d6d9e_row17_col10 {\n",
       "  background-color: #cbd8ee;\n",
       "  color: #000000;\n",
       "}\n",
       "#T_d6d9e_row15_col9 {\n",
       "  background-color: #d3dbe7;\n",
       "  color: #000000;\n",
       "}\n",
       "#T_d6d9e_row15_col12, #T_d6d9e_row18_col12 {\n",
       "  background-color: #4961d2;\n",
       "  color: #f1f1f1;\n",
       "}\n",
       "#T_d6d9e_row16_col19 {\n",
       "  background-color: #cad8ef;\n",
       "  color: #000000;\n",
       "}\n",
       "#T_d6d9e_row17_col6 {\n",
       "  background-color: #c0d4f5;\n",
       "  color: #000000;\n",
       "}\n",
       "#T_d6d9e_row17_col21, #T_d6d9e_row18_col4 {\n",
       "  background-color: #8caffe;\n",
       "  color: #000000;\n",
       "}\n",
       "#T_d6d9e_row18_col3 {\n",
       "  background-color: #f4c6af;\n",
       "  color: #000000;\n",
       "}\n",
       "#T_d6d9e_row18_col5 {\n",
       "  background-color: #ebd3c6;\n",
       "  color: #000000;\n",
       "}\n",
       "#T_d6d9e_row18_col11 {\n",
       "  background-color: #b1cbfc;\n",
       "  color: #000000;\n",
       "}\n",
       "#T_d6d9e_row18_col15, #T_d6d9e_row18_col19 {\n",
       "  background-color: #d5dbe5;\n",
       "  color: #000000;\n",
       "}\n",
       "#T_d6d9e_row19_col4 {\n",
       "  background-color: #d8dce2;\n",
       "  color: #000000;\n",
       "}\n",
       "#T_d6d9e_row19_col18 {\n",
       "  background-color: #d1dae9;\n",
       "  color: #000000;\n",
       "}\n",
       "#T_d6d9e_row20_col9 {\n",
       "  background-color: #edd1c2;\n",
       "  color: #000000;\n",
       "}\n",
       "#T_d6d9e_row20_col13 {\n",
       "  background-color: #3c4ec2;\n",
       "  color: #f1f1f1;\n",
       "}\n",
       "#T_d6d9e_row20_col19 {\n",
       "  background-color: #adc9fd;\n",
       "  color: #000000;\n",
       "}\n",
       "#T_d6d9e_row20_col21 {\n",
       "  background-color: #4257c9;\n",
       "  color: #f1f1f1;\n",
       "}\n",
       "</style>\n",
       "<table id=\"T_d6d9e\">\n",
       "  <thead>\n",
       "    <tr>\n",
       "      <th class=\"blank level0\" >&nbsp;</th>\n",
       "      <th id=\"T_d6d9e_level0_col0\" class=\"col_heading level0 col0\" >SalePrice</th>\n",
       "      <th id=\"T_d6d9e_level0_col1\" class=\"col_heading level0 col1\" >SqFt1stFloor</th>\n",
       "      <th id=\"T_d6d9e_level0_col2\" class=\"col_heading level0 col2\" >SqFtHalfFloor</th>\n",
       "      <th id=\"T_d6d9e_level0_col3\" class=\"col_heading level0 col3\" >SqFt2ndFloor</th>\n",
       "      <th id=\"T_d6d9e_level0_col4\" class=\"col_heading level0 col4\" >SqFtUpperFloor</th>\n",
       "      <th id=\"T_d6d9e_level0_col5\" class=\"col_heading level0 col5\" >SqFtTotLiving</th>\n",
       "      <th id=\"T_d6d9e_level0_col6\" class=\"col_heading level0 col6\" >SqFtTotBasement</th>\n",
       "      <th id=\"T_d6d9e_level0_col7\" class=\"col_heading level0 col7\" >SqFtFinBasement</th>\n",
       "      <th id=\"T_d6d9e_level0_col8\" class=\"col_heading level0 col8\" >SqFtGarageBasement</th>\n",
       "      <th id=\"T_d6d9e_level0_col9\" class=\"col_heading level0 col9\" >SqFtGarageAttached</th>\n",
       "      <th id=\"T_d6d9e_level0_col10\" class=\"col_heading level0 col10\" >DaylightBasement</th>\n",
       "      <th id=\"T_d6d9e_level0_col11\" class=\"col_heading level0 col11\" >SqFtOpenPorch</th>\n",
       "      <th id=\"T_d6d9e_level0_col12\" class=\"col_heading level0 col12\" >SqFtEnclosedPorch</th>\n",
       "      <th id=\"T_d6d9e_level0_col13\" class=\"col_heading level0 col13\" >SqFtDeck</th>\n",
       "      <th id=\"T_d6d9e_level0_col14\" class=\"col_heading level0 col14\" >BrickStone</th>\n",
       "      <th id=\"T_d6d9e_level0_col15\" class=\"col_heading level0 col15\" >Bedrooms</th>\n",
       "      <th id=\"T_d6d9e_level0_col16\" class=\"col_heading level0 col16\" >BathHalfCount</th>\n",
       "      <th id=\"T_d6d9e_level0_col17\" class=\"col_heading level0 col17\" >Bath3qtrCount</th>\n",
       "      <th id=\"T_d6d9e_level0_col18\" class=\"col_heading level0 col18\" >BathFullCount</th>\n",
       "      <th id=\"T_d6d9e_level0_col19\" class=\"col_heading level0 col19\" >YrBuilt</th>\n",
       "      <th id=\"T_d6d9e_level0_col20\" class=\"col_heading level0 col20\" >Longitude</th>\n",
       "      <th id=\"T_d6d9e_level0_col21\" class=\"col_heading level0 col21\" >Latitude</th>\n",
       "    </tr>\n",
       "  </thead>\n",
       "  <tbody>\n",
       "    <tr>\n",
       "      <th id=\"T_d6d9e_level0_row0\" class=\"row_heading level0 row0\" >SalePrice</th>\n",
       "      <td id=\"T_d6d9e_row0_col0\" class=\"data row0 col0\" >1.00</td>\n",
       "      <td id=\"T_d6d9e_row0_col1\" class=\"data row0 col1\" >0.18</td>\n",
       "      <td id=\"T_d6d9e_row0_col2\" class=\"data row0 col2\" >0.10</td>\n",
       "      <td id=\"T_d6d9e_row0_col3\" class=\"data row0 col3\" >0.37</td>\n",
       "      <td id=\"T_d6d9e_row0_col4\" class=\"data row0 col4\" >0.07</td>\n",
       "      <td id=\"T_d6d9e_row0_col5\" class=\"data row0 col5\" >0.51</td>\n",
       "      <td id=\"T_d6d9e_row0_col6\" class=\"data row0 col6\" >0.19</td>\n",
       "      <td id=\"T_d6d9e_row0_col7\" class=\"data row0 col7\" >0.20</td>\n",
       "      <td id=\"T_d6d9e_row0_col8\" class=\"data row0 col8\" >0.02</td>\n",
       "      <td id=\"T_d6d9e_row0_col9\" class=\"data row0 col9\" >0.09</td>\n",
       "      <td id=\"T_d6d9e_row0_col10\" class=\"data row0 col10\" >0.09</td>\n",
       "      <td id=\"T_d6d9e_row0_col11\" class=\"data row0 col11\" >0.21</td>\n",
       "      <td id=\"T_d6d9e_row0_col12\" class=\"data row0 col12\" >0.00</td>\n",
       "      <td id=\"T_d6d9e_row0_col13\" class=\"data row0 col13\" >0.20</td>\n",
       "      <td id=\"T_d6d9e_row0_col14\" class=\"data row0 col14\" >0.08</td>\n",
       "      <td id=\"T_d6d9e_row0_col15\" class=\"data row0 col15\" >0.26</td>\n",
       "      <td id=\"T_d6d9e_row0_col16\" class=\"data row0 col16\" >0.17</td>\n",
       "      <td id=\"T_d6d9e_row0_col17\" class=\"data row0 col17\" >0.19</td>\n",
       "      <td id=\"T_d6d9e_row0_col18\" class=\"data row0 col18\" >0.29</td>\n",
       "      <td id=\"T_d6d9e_row0_col19\" class=\"data row0 col19\" >0.13</td>\n",
       "      <td id=\"T_d6d9e_row0_col20\" class=\"data row0 col20\" >0.07</td>\n",
       "      <td id=\"T_d6d9e_row0_col21\" class=\"data row0 col21\" >0.41</td>\n",
       "    </tr>\n",
       "    <tr>\n",
       "      <th id=\"T_d6d9e_level0_row1\" class=\"row_heading level0 row1\" >SqFt1stFloor</th>\n",
       "      <td id=\"T_d6d9e_row1_col0\" class=\"data row1 col0\" >0.18</td>\n",
       "      <td id=\"T_d6d9e_row1_col1\" class=\"data row1 col1\" >1.00</td>\n",
       "      <td id=\"T_d6d9e_row1_col2\" class=\"data row1 col2\" >-0.01</td>\n",
       "      <td id=\"T_d6d9e_row1_col3\" class=\"data row1 col3\" >-0.08</td>\n",
       "      <td id=\"T_d6d9e_row1_col4\" class=\"data row1 col4\" >-0.32</td>\n",
       "      <td id=\"T_d6d9e_row1_col5\" class=\"data row1 col5\" >0.58</td>\n",
       "      <td id=\"T_d6d9e_row1_col6\" class=\"data row1 col6\" >0.21</td>\n",
       "      <td id=\"T_d6d9e_row1_col7\" class=\"data row1 col7\" >0.19</td>\n",
       "      <td id=\"T_d6d9e_row1_col8\" class=\"data row1 col8\" >0.09</td>\n",
       "      <td id=\"T_d6d9e_row1_col9\" class=\"data row1 col9\" >0.39</td>\n",
       "      <td id=\"T_d6d9e_row1_col10\" class=\"data row1 col10\" >-0.03</td>\n",
       "      <td id=\"T_d6d9e_row1_col11\" class=\"data row1 col11\" >0.19</td>\n",
       "      <td id=\"T_d6d9e_row1_col12\" class=\"data row1 col12\" >-0.06</td>\n",
       "      <td id=\"T_d6d9e_row1_col13\" class=\"data row1 col13\" >-0.05</td>\n",
       "      <td id=\"T_d6d9e_row1_col14\" class=\"data row1 col14\" >0.08</td>\n",
       "      <td id=\"T_d6d9e_row1_col15\" class=\"data row1 col15\" >0.45</td>\n",
       "      <td id=\"T_d6d9e_row1_col16\" class=\"data row1 col16\" >0.02</td>\n",
       "      <td id=\"T_d6d9e_row1_col17\" class=\"data row1 col17\" >0.09</td>\n",
       "      <td id=\"T_d6d9e_row1_col18\" class=\"data row1 col18\" >0.19</td>\n",
       "      <td id=\"T_d6d9e_row1_col19\" class=\"data row1 col19\" >-0.25</td>\n",
       "      <td id=\"T_d6d9e_row1_col20\" class=\"data row1 col20\" >0.40</td>\n",
       "      <td id=\"T_d6d9e_row1_col21\" class=\"data row1 col21\" >-0.12</td>\n",
       "    </tr>\n",
       "    <tr>\n",
       "      <th id=\"T_d6d9e_level0_row2\" class=\"row_heading level0 row2\" >SqFtHalfFloor</th>\n",
       "      <td id=\"T_d6d9e_row2_col0\" class=\"data row2 col0\" >0.10</td>\n",
       "      <td id=\"T_d6d9e_row2_col1\" class=\"data row2 col1\" >-0.01</td>\n",
       "      <td id=\"T_d6d9e_row2_col2\" class=\"data row2 col2\" >1.00</td>\n",
       "      <td id=\"T_d6d9e_row2_col3\" class=\"data row2 col3\" >-0.14</td>\n",
       "      <td id=\"T_d6d9e_row2_col4\" class=\"data row2 col4\" >-0.04</td>\n",
       "      <td id=\"T_d6d9e_row2_col5\" class=\"data row2 col5\" >0.07</td>\n",
       "      <td id=\"T_d6d9e_row2_col6\" class=\"data row2 col6\" >0.06</td>\n",
       "      <td id=\"T_d6d9e_row2_col7\" class=\"data row2 col7\" >-0.07</td>\n",
       "      <td id=\"T_d6d9e_row2_col8\" class=\"data row2 col8\" >-0.08</td>\n",
       "      <td id=\"T_d6d9e_row2_col9\" class=\"data row2 col9\" >-0.09</td>\n",
       "      <td id=\"T_d6d9e_row2_col10\" class=\"data row2 col10\" >-0.15</td>\n",
       "      <td id=\"T_d6d9e_row2_col11\" class=\"data row2 col11\" >0.03</td>\n",
       "      <td id=\"T_d6d9e_row2_col12\" class=\"data row2 col12\" >0.03</td>\n",
       "      <td id=\"T_d6d9e_row2_col13\" class=\"data row2 col13\" >-0.07</td>\n",
       "      <td id=\"T_d6d9e_row2_col14\" class=\"data row2 col14\" >0.08</td>\n",
       "      <td id=\"T_d6d9e_row2_col15\" class=\"data row2 col15\" >0.09</td>\n",
       "      <td id=\"T_d6d9e_row2_col16\" class=\"data row2 col16\" >-0.01</td>\n",
       "      <td id=\"T_d6d9e_row2_col17\" class=\"data row2 col17\" >-0.09</td>\n",
       "      <td id=\"T_d6d9e_row2_col18\" class=\"data row2 col18\" >-0.03</td>\n",
       "      <td id=\"T_d6d9e_row2_col19\" class=\"data row2 col19\" >-0.30</td>\n",
       "      <td id=\"T_d6d9e_row2_col20\" class=\"data row2 col20\" >-0.11</td>\n",
       "      <td id=\"T_d6d9e_row2_col21\" class=\"data row2 col21\" >0.07</td>\n",
       "    </tr>\n",
       "    <tr>\n",
       "      <th id=\"T_d6d9e_level0_row3\" class=\"row_heading level0 row3\" >SqFt2ndFloor</th>\n",
       "      <td id=\"T_d6d9e_row3_col0\" class=\"data row3 col0\" >0.37</td>\n",
       "      <td id=\"T_d6d9e_row3_col1\" class=\"data row3 col1\" >-0.08</td>\n",
       "      <td id=\"T_d6d9e_row3_col2\" class=\"data row3 col2\" >-0.14</td>\n",
       "      <td id=\"T_d6d9e_row3_col3\" class=\"data row3 col3\" >1.00</td>\n",
       "      <td id=\"T_d6d9e_row3_col4\" class=\"data row3 col4\" >0.11</td>\n",
       "      <td id=\"T_d6d9e_row3_col5\" class=\"data row3 col5\" >0.54</td>\n",
       "      <td id=\"T_d6d9e_row3_col6\" class=\"data row3 col6\" >-0.30</td>\n",
       "      <td id=\"T_d6d9e_row3_col7\" class=\"data row3 col7\" >-0.20</td>\n",
       "      <td id=\"T_d6d9e_row3_col8\" class=\"data row3 col8\" >-0.13</td>\n",
       "      <td id=\"T_d6d9e_row3_col9\" class=\"data row3 col9\" >0.36</td>\n",
       "      <td id=\"T_d6d9e_row3_col10\" class=\"data row3 col10\" >-0.15</td>\n",
       "      <td id=\"T_d6d9e_row3_col11\" class=\"data row3 col11\" >0.39</td>\n",
       "      <td id=\"T_d6d9e_row3_col12\" class=\"data row3 col12\" >-0.00</td>\n",
       "      <td id=\"T_d6d9e_row3_col13\" class=\"data row3 col13\" >-0.00</td>\n",
       "      <td id=\"T_d6d9e_row3_col14\" class=\"data row3 col14\" >-0.11</td>\n",
       "      <td id=\"T_d6d9e_row3_col15\" class=\"data row3 col15\" >0.30</td>\n",
       "      <td id=\"T_d6d9e_row3_col16\" class=\"data row3 col16\" >0.29</td>\n",
       "      <td id=\"T_d6d9e_row3_col17\" class=\"data row3 col17\" >0.08</td>\n",
       "      <td id=\"T_d6d9e_row3_col18\" class=\"data row3 col18\" >0.50</td>\n",
       "      <td id=\"T_d6d9e_row3_col19\" class=\"data row3 col19\" >0.59</td>\n",
       "      <td id=\"T_d6d9e_row3_col20\" class=\"data row3 col20\" >0.18</td>\n",
       "      <td id=\"T_d6d9e_row3_col21\" class=\"data row3 col21\" >-0.01</td>\n",
       "    </tr>\n",
       "    <tr>\n",
       "      <th id=\"T_d6d9e_level0_row4\" class=\"row_heading level0 row4\" >SqFtUpperFloor</th>\n",
       "      <td id=\"T_d6d9e_row4_col0\" class=\"data row4 col0\" >0.07</td>\n",
       "      <td id=\"T_d6d9e_row4_col1\" class=\"data row4 col1\" >-0.32</td>\n",
       "      <td id=\"T_d6d9e_row4_col2\" class=\"data row4 col2\" >-0.04</td>\n",
       "      <td id=\"T_d6d9e_row4_col3\" class=\"data row4 col3\" >0.11</td>\n",
       "      <td id=\"T_d6d9e_row4_col4\" class=\"data row4 col4\" >1.00</td>\n",
       "      <td id=\"T_d6d9e_row4_col5\" class=\"data row4 col5\" >-0.06</td>\n",
       "      <td id=\"T_d6d9e_row4_col6\" class=\"data row4 col6\" >-0.20</td>\n",
       "      <td id=\"T_d6d9e_row4_col7\" class=\"data row4 col7\" >-0.16</td>\n",
       "      <td id=\"T_d6d9e_row4_col8\" class=\"data row4 col8\" >-0.06</td>\n",
       "      <td id=\"T_d6d9e_row4_col9\" class=\"data row4 col9\" >-0.13</td>\n",
       "      <td id=\"T_d6d9e_row4_col10\" class=\"data row4 col10\" >-0.13</td>\n",
       "      <td id=\"T_d6d9e_row4_col11\" class=\"data row4 col11\" >-0.06</td>\n",
       "      <td id=\"T_d6d9e_row4_col12\" class=\"data row4 col12\" >0.06</td>\n",
       "      <td id=\"T_d6d9e_row4_col13\" class=\"data row4 col13\" >0.17</td>\n",
       "      <td id=\"T_d6d9e_row4_col14\" class=\"data row4 col14\" >-0.04</td>\n",
       "      <td id=\"T_d6d9e_row4_col15\" class=\"data row4 col15\" >-0.13</td>\n",
       "      <td id=\"T_d6d9e_row4_col16\" class=\"data row4 col16\" >0.04</td>\n",
       "      <td id=\"T_d6d9e_row4_col17\" class=\"data row4 col17\" >0.05</td>\n",
       "      <td id=\"T_d6d9e_row4_col18\" class=\"data row4 col18\" >0.01</td>\n",
       "      <td id=\"T_d6d9e_row4_col19\" class=\"data row4 col19\" >0.32</td>\n",
       "      <td id=\"T_d6d9e_row4_col20\" class=\"data row4 col20\" >-0.17</td>\n",
       "      <td id=\"T_d6d9e_row4_col21\" class=\"data row4 col21\" >0.09</td>\n",
       "    </tr>\n",
       "    <tr>\n",
       "      <th id=\"T_d6d9e_level0_row5\" class=\"row_heading level0 row5\" >SqFtTotLiving</th>\n",
       "      <td id=\"T_d6d9e_row5_col0\" class=\"data row5 col0\" >0.51</td>\n",
       "      <td id=\"T_d6d9e_row5_col1\" class=\"data row5 col1\" >0.58</td>\n",
       "      <td id=\"T_d6d9e_row5_col2\" class=\"data row5 col2\" >0.07</td>\n",
       "      <td id=\"T_d6d9e_row5_col3\" class=\"data row5 col3\" >0.54</td>\n",
       "      <td id=\"T_d6d9e_row5_col4\" class=\"data row5 col4\" >-0.06</td>\n",
       "      <td id=\"T_d6d9e_row5_col5\" class=\"data row5 col5\" >1.00</td>\n",
       "      <td id=\"T_d6d9e_row5_col6\" class=\"data row5 col6\" >0.32</td>\n",
       "      <td id=\"T_d6d9e_row5_col7\" class=\"data row5 col7\" >0.49</td>\n",
       "      <td id=\"T_d6d9e_row5_col8\" class=\"data row5 col8\" >0.07</td>\n",
       "      <td id=\"T_d6d9e_row5_col9\" class=\"data row5 col9\" >0.39</td>\n",
       "      <td id=\"T_d6d9e_row5_col10\" class=\"data row5 col10\" >0.14</td>\n",
       "      <td id=\"T_d6d9e_row5_col11\" class=\"data row5 col11\" >0.37</td>\n",
       "      <td id=\"T_d6d9e_row5_col12\" class=\"data row5 col12\" >-0.03</td>\n",
       "      <td id=\"T_d6d9e_row5_col13\" class=\"data row5 col13\" >0.12</td>\n",
       "      <td id=\"T_d6d9e_row5_col14\" class=\"data row5 col14\" >0.04</td>\n",
       "      <td id=\"T_d6d9e_row5_col15\" class=\"data row5 col15\" >0.66</td>\n",
       "      <td id=\"T_d6d9e_row5_col16\" class=\"data row5 col16\" >0.25</td>\n",
       "      <td id=\"T_d6d9e_row5_col17\" class=\"data row5 col17\" >0.28</td>\n",
       "      <td id=\"T_d6d9e_row5_col18\" class=\"data row5 col18\" >0.53</td>\n",
       "      <td id=\"T_d6d9e_row5_col19\" class=\"data row5 col19\" >0.24</td>\n",
       "      <td id=\"T_d6d9e_row5_col20\" class=\"data row5 col20\" >0.32</td>\n",
       "      <td id=\"T_d6d9e_row5_col21\" class=\"data row5 col21\" >-0.02</td>\n",
       "    </tr>\n",
       "    <tr>\n",
       "      <th id=\"T_d6d9e_level0_row6\" class=\"row_heading level0 row6\" >SqFtTotBasement</th>\n",
       "      <td id=\"T_d6d9e_row6_col0\" class=\"data row6 col0\" >0.19</td>\n",
       "      <td id=\"T_d6d9e_row6_col1\" class=\"data row6 col1\" >0.21</td>\n",
       "      <td id=\"T_d6d9e_row6_col2\" class=\"data row6 col2\" >0.06</td>\n",
       "      <td id=\"T_d6d9e_row6_col3\" class=\"data row6 col3\" >-0.30</td>\n",
       "      <td id=\"T_d6d9e_row6_col4\" class=\"data row6 col4\" >-0.20</td>\n",
       "      <td id=\"T_d6d9e_row6_col5\" class=\"data row6 col5\" >0.32</td>\n",
       "      <td id=\"T_d6d9e_row6_col6\" class=\"data row6 col6\" >1.00</td>\n",
       "      <td id=\"T_d6d9e_row6_col7\" class=\"data row6 col7\" >0.78</td>\n",
       "      <td id=\"T_d6d9e_row6_col8\" class=\"data row6 col8\" >0.49</td>\n",
       "      <td id=\"T_d6d9e_row6_col9\" class=\"data row6 col9\" >-0.28</td>\n",
       "      <td id=\"T_d6d9e_row6_col10\" class=\"data row6 col10\" >0.55</td>\n",
       "      <td id=\"T_d6d9e_row6_col11\" class=\"data row6 col11\" >-0.05</td>\n",
       "      <td id=\"T_d6d9e_row6_col12\" class=\"data row6 col12\" >-0.01</td>\n",
       "      <td id=\"T_d6d9e_row6_col13\" class=\"data row6 col13\" >0.17</td>\n",
       "      <td id=\"T_d6d9e_row6_col14\" class=\"data row6 col14\" >0.17</td>\n",
       "      <td id=\"T_d6d9e_row6_col15\" class=\"data row6 col15\" >0.24</td>\n",
       "      <td id=\"T_d6d9e_row6_col16\" class=\"data row6 col16\" >-0.00</td>\n",
       "      <td id=\"T_d6d9e_row6_col17\" class=\"data row6 col17\" >0.22</td>\n",
       "      <td id=\"T_d6d9e_row6_col18\" class=\"data row6 col18\" >0.03</td>\n",
       "      <td id=\"T_d6d9e_row6_col19\" class=\"data row6 col19\" >-0.24</td>\n",
       "      <td id=\"T_d6d9e_row6_col20\" class=\"data row6 col20\" >-0.07</td>\n",
       "      <td id=\"T_d6d9e_row6_col21\" class=\"data row6 col21\" >0.14</td>\n",
       "    </tr>\n",
       "    <tr>\n",
       "      <th id=\"T_d6d9e_level0_row7\" class=\"row_heading level0 row7\" >SqFtFinBasement</th>\n",
       "      <td id=\"T_d6d9e_row7_col0\" class=\"data row7 col0\" >0.20</td>\n",
       "      <td id=\"T_d6d9e_row7_col1\" class=\"data row7 col1\" >0.19</td>\n",
       "      <td id=\"T_d6d9e_row7_col2\" class=\"data row7 col2\" >-0.07</td>\n",
       "      <td id=\"T_d6d9e_row7_col3\" class=\"data row7 col3\" >-0.20</td>\n",
       "      <td id=\"T_d6d9e_row7_col4\" class=\"data row7 col4\" >-0.16</td>\n",
       "      <td id=\"T_d6d9e_row7_col5\" class=\"data row7 col5\" >0.49</td>\n",
       "      <td id=\"T_d6d9e_row7_col6\" class=\"data row7 col6\" >0.78</td>\n",
       "      <td id=\"T_d6d9e_row7_col7\" class=\"data row7 col7\" >1.00</td>\n",
       "      <td id=\"T_d6d9e_row7_col8\" class=\"data row7 col8\" >0.25</td>\n",
       "      <td id=\"T_d6d9e_row7_col9\" class=\"data row7 col9\" >-0.09</td>\n",
       "      <td id=\"T_d6d9e_row7_col10\" class=\"data row7 col10\" >0.58</td>\n",
       "      <td id=\"T_d6d9e_row7_col11\" class=\"data row7 col11\" >-0.03</td>\n",
       "      <td id=\"T_d6d9e_row7_col12\" class=\"data row7 col12\" >-0.01</td>\n",
       "      <td id=\"T_d6d9e_row7_col13\" class=\"data row7 col13\" >0.25</td>\n",
       "      <td id=\"T_d6d9e_row7_col14\" class=\"data row7 col14\" >0.11</td>\n",
       "      <td id=\"T_d6d9e_row7_col15\" class=\"data row7 col15\" >0.32</td>\n",
       "      <td id=\"T_d6d9e_row7_col16\" class=\"data row7 col16\" >0.04</td>\n",
       "      <td id=\"T_d6d9e_row7_col17\" class=\"data row7 col17\" >0.33</td>\n",
       "      <td id=\"T_d6d9e_row7_col18\" class=\"data row7 col18\" >0.12</td>\n",
       "      <td id=\"T_d6d9e_row7_col19\" class=\"data row7 col19\" >-0.02</td>\n",
       "      <td id=\"T_d6d9e_row7_col20\" class=\"data row7 col20\" >0.03</td>\n",
       "      <td id=\"T_d6d9e_row7_col21\" class=\"data row7 col21\" >0.06</td>\n",
       "    </tr>\n",
       "    <tr>\n",
       "      <th id=\"T_d6d9e_level0_row8\" class=\"row_heading level0 row8\" >SqFtGarageBasement</th>\n",
       "      <td id=\"T_d6d9e_row8_col0\" class=\"data row8 col0\" >0.02</td>\n",
       "      <td id=\"T_d6d9e_row8_col1\" class=\"data row8 col1\" >0.09</td>\n",
       "      <td id=\"T_d6d9e_row8_col2\" class=\"data row8 col2\" >-0.08</td>\n",
       "      <td id=\"T_d6d9e_row8_col3\" class=\"data row8 col3\" >-0.13</td>\n",
       "      <td id=\"T_d6d9e_row8_col4\" class=\"data row8 col4\" >-0.06</td>\n",
       "      <td id=\"T_d6d9e_row8_col5\" class=\"data row8 col5\" >0.07</td>\n",
       "      <td id=\"T_d6d9e_row8_col6\" class=\"data row8 col6\" >0.49</td>\n",
       "      <td id=\"T_d6d9e_row8_col7\" class=\"data row8 col7\" >0.25</td>\n",
       "      <td id=\"T_d6d9e_row8_col8\" class=\"data row8 col8\" >1.00</td>\n",
       "      <td id=\"T_d6d9e_row8_col9\" class=\"data row8 col9\" >-0.32</td>\n",
       "      <td id=\"T_d6d9e_row8_col10\" class=\"data row8 col10\" >0.38</td>\n",
       "      <td id=\"T_d6d9e_row8_col11\" class=\"data row8 col11\" >-0.09</td>\n",
       "      <td id=\"T_d6d9e_row8_col12\" class=\"data row8 col12\" >-0.03</td>\n",
       "      <td id=\"T_d6d9e_row8_col13\" class=\"data row8 col13\" >0.07</td>\n",
       "      <td id=\"T_d6d9e_row8_col14\" class=\"data row8 col14\" >0.04</td>\n",
       "      <td id=\"T_d6d9e_row8_col15\" class=\"data row8 col15\" >0.03</td>\n",
       "      <td id=\"T_d6d9e_row8_col16\" class=\"data row8 col16\" >0.10</td>\n",
       "      <td id=\"T_d6d9e_row8_col17\" class=\"data row8 col17\" >0.19</td>\n",
       "      <td id=\"T_d6d9e_row8_col18\" class=\"data row8 col18\" >0.00</td>\n",
       "      <td id=\"T_d6d9e_row8_col19\" class=\"data row8 col19\" >0.08</td>\n",
       "      <td id=\"T_d6d9e_row8_col20\" class=\"data row8 col20\" >0.03</td>\n",
       "      <td id=\"T_d6d9e_row8_col21\" class=\"data row8 col21\" >0.09</td>\n",
       "    </tr>\n",
       "    <tr>\n",
       "      <th id=\"T_d6d9e_level0_row9\" class=\"row_heading level0 row9\" >SqFtGarageAttached</th>\n",
       "      <td id=\"T_d6d9e_row9_col0\" class=\"data row9 col0\" >0.09</td>\n",
       "      <td id=\"T_d6d9e_row9_col1\" class=\"data row9 col1\" >0.39</td>\n",
       "      <td id=\"T_d6d9e_row9_col2\" class=\"data row9 col2\" >-0.09</td>\n",
       "      <td id=\"T_d6d9e_row9_col3\" class=\"data row9 col3\" >0.36</td>\n",
       "      <td id=\"T_d6d9e_row9_col4\" class=\"data row9 col4\" >-0.13</td>\n",
       "      <td id=\"T_d6d9e_row9_col5\" class=\"data row9 col5\" >0.39</td>\n",
       "      <td id=\"T_d6d9e_row9_col6\" class=\"data row9 col6\" >-0.28</td>\n",
       "      <td id=\"T_d6d9e_row9_col7\" class=\"data row9 col7\" >-0.09</td>\n",
       "      <td id=\"T_d6d9e_row9_col8\" class=\"data row9 col8\" >-0.32</td>\n",
       "      <td id=\"T_d6d9e_row9_col9\" class=\"data row9 col9\" >1.00</td>\n",
       "      <td id=\"T_d6d9e_row9_col10\" class=\"data row9 col10\" >-0.19</td>\n",
       "      <td id=\"T_d6d9e_row9_col11\" class=\"data row9 col11\" >0.28</td>\n",
       "      <td id=\"T_d6d9e_row9_col12\" class=\"data row9 col12\" >-0.07</td>\n",
       "      <td id=\"T_d6d9e_row9_col13\" class=\"data row9 col13\" >-0.09</td>\n",
       "      <td id=\"T_d6d9e_row9_col14\" class=\"data row9 col14\" >-0.06</td>\n",
       "      <td id=\"T_d6d9e_row9_col15\" class=\"data row9 col15\" >0.29</td>\n",
       "      <td id=\"T_d6d9e_row9_col16\" class=\"data row9 col16\" >0.11</td>\n",
       "      <td id=\"T_d6d9e_row9_col17\" class=\"data row9 col17\" >0.03</td>\n",
       "      <td id=\"T_d6d9e_row9_col18\" class=\"data row9 col18\" >0.26</td>\n",
       "      <td id=\"T_d6d9e_row9_col19\" class=\"data row9 col19\" >0.19</td>\n",
       "      <td id=\"T_d6d9e_row9_col20\" class=\"data row9 col20\" >0.44</td>\n",
       "      <td id=\"T_d6d9e_row9_col21\" class=\"data row9 col21\" >-0.22</td>\n",
       "    </tr>\n",
       "    <tr>\n",
       "      <th id=\"T_d6d9e_level0_row10\" class=\"row_heading level0 row10\" >DaylightBasement</th>\n",
       "      <td id=\"T_d6d9e_row10_col0\" class=\"data row10 col0\" >0.09</td>\n",
       "      <td id=\"T_d6d9e_row10_col1\" class=\"data row10 col1\" >-0.03</td>\n",
       "      <td id=\"T_d6d9e_row10_col2\" class=\"data row10 col2\" >-0.15</td>\n",
       "      <td id=\"T_d6d9e_row10_col3\" class=\"data row10 col3\" >-0.15</td>\n",
       "      <td id=\"T_d6d9e_row10_col4\" class=\"data row10 col4\" >-0.13</td>\n",
       "      <td id=\"T_d6d9e_row10_col5\" class=\"data row10 col5\" >0.14</td>\n",
       "      <td id=\"T_d6d9e_row10_col6\" class=\"data row10 col6\" >0.55</td>\n",
       "      <td id=\"T_d6d9e_row10_col7\" class=\"data row10 col7\" >0.58</td>\n",
       "      <td id=\"T_d6d9e_row10_col8\" class=\"data row10 col8\" >0.38</td>\n",
       "      <td id=\"T_d6d9e_row10_col9\" class=\"data row10 col9\" >-0.19</td>\n",
       "      <td id=\"T_d6d9e_row10_col10\" class=\"data row10 col10\" >1.00</td>\n",
       "      <td id=\"T_d6d9e_row10_col11\" class=\"data row10 col11\" >-0.11</td>\n",
       "      <td id=\"T_d6d9e_row10_col12\" class=\"data row10 col12\" >0.01</td>\n",
       "      <td id=\"T_d6d9e_row10_col13\" class=\"data row10 col13\" >0.29</td>\n",
       "      <td id=\"T_d6d9e_row10_col14\" class=\"data row10 col14\" >-0.04</td>\n",
       "      <td id=\"T_d6d9e_row10_col15\" class=\"data row10 col15\" >0.10</td>\n",
       "      <td id=\"T_d6d9e_row10_col16\" class=\"data row10 col16\" >0.08</td>\n",
       "      <td id=\"T_d6d9e_row10_col17\" class=\"data row10 col17\" >0.33</td>\n",
       "      <td id=\"T_d6d9e_row10_col18\" class=\"data row10 col18\" >-0.02</td>\n",
       "      <td id=\"T_d6d9e_row10_col19\" class=\"data row10 col19\" >0.19</td>\n",
       "      <td id=\"T_d6d9e_row10_col20\" class=\"data row10 col20\" >0.01</td>\n",
       "      <td id=\"T_d6d9e_row10_col21\" class=\"data row10 col21\" >0.09</td>\n",
       "    </tr>\n",
       "    <tr>\n",
       "      <th id=\"T_d6d9e_level0_row11\" class=\"row_heading level0 row11\" >SqFtOpenPorch</th>\n",
       "      <td id=\"T_d6d9e_row11_col0\" class=\"data row11 col0\" >0.21</td>\n",
       "      <td id=\"T_d6d9e_row11_col1\" class=\"data row11 col1\" >0.19</td>\n",
       "      <td id=\"T_d6d9e_row11_col2\" class=\"data row11 col2\" >0.03</td>\n",
       "      <td id=\"T_d6d9e_row11_col3\" class=\"data row11 col3\" >0.39</td>\n",
       "      <td id=\"T_d6d9e_row11_col4\" class=\"data row11 col4\" >-0.06</td>\n",
       "      <td id=\"T_d6d9e_row11_col5\" class=\"data row11 col5\" >0.37</td>\n",
       "      <td id=\"T_d6d9e_row11_col6\" class=\"data row11 col6\" >-0.05</td>\n",
       "      <td id=\"T_d6d9e_row11_col7\" class=\"data row11 col7\" >-0.03</td>\n",
       "      <td id=\"T_d6d9e_row11_col8\" class=\"data row11 col8\" >-0.09</td>\n",
       "      <td id=\"T_d6d9e_row11_col9\" class=\"data row11 col9\" >0.28</td>\n",
       "      <td id=\"T_d6d9e_row11_col10\" class=\"data row11 col10\" >-0.11</td>\n",
       "      <td id=\"T_d6d9e_row11_col11\" class=\"data row11 col11\" >1.00</td>\n",
       "      <td id=\"T_d6d9e_row11_col12\" class=\"data row11 col12\" >-0.03</td>\n",
       "      <td id=\"T_d6d9e_row11_col13\" class=\"data row11 col13\" >-0.13</td>\n",
       "      <td id=\"T_d6d9e_row11_col14\" class=\"data row11 col14\" >-0.03</td>\n",
       "      <td id=\"T_d6d9e_row11_col15\" class=\"data row11 col15\" >0.22</td>\n",
       "      <td id=\"T_d6d9e_row11_col16\" class=\"data row11 col16\" >0.12</td>\n",
       "      <td id=\"T_d6d9e_row11_col17\" class=\"data row11 col17\" >0.02</td>\n",
       "      <td id=\"T_d6d9e_row11_col18\" class=\"data row11 col18\" >0.27</td>\n",
       "      <td id=\"T_d6d9e_row11_col19\" class=\"data row11 col19\" >0.12</td>\n",
       "      <td id=\"T_d6d9e_row11_col20\" class=\"data row11 col20\" >0.19</td>\n",
       "      <td id=\"T_d6d9e_row11_col21\" class=\"data row11 col21\" >-0.06</td>\n",
       "    </tr>\n",
       "    <tr>\n",
       "      <th id=\"T_d6d9e_level0_row12\" class=\"row_heading level0 row12\" >SqFtEnclosedPorch</th>\n",
       "      <td id=\"T_d6d9e_row12_col0\" class=\"data row12 col0\" >0.00</td>\n",
       "      <td id=\"T_d6d9e_row12_col1\" class=\"data row12 col1\" >-0.06</td>\n",
       "      <td id=\"T_d6d9e_row12_col2\" class=\"data row12 col2\" >0.03</td>\n",
       "      <td id=\"T_d6d9e_row12_col3\" class=\"data row12 col3\" >-0.00</td>\n",
       "      <td id=\"T_d6d9e_row12_col4\" class=\"data row12 col4\" >0.06</td>\n",
       "      <td id=\"T_d6d9e_row12_col5\" class=\"data row12 col5\" >-0.03</td>\n",
       "      <td id=\"T_d6d9e_row12_col6\" class=\"data row12 col6\" >-0.01</td>\n",
       "      <td id=\"T_d6d9e_row12_col7\" class=\"data row12 col7\" >-0.01</td>\n",
       "      <td id=\"T_d6d9e_row12_col8\" class=\"data row12 col8\" >-0.03</td>\n",
       "      <td id=\"T_d6d9e_row12_col9\" class=\"data row12 col9\" >-0.07</td>\n",
       "      <td id=\"T_d6d9e_row12_col10\" class=\"data row12 col10\" >0.01</td>\n",
       "      <td id=\"T_d6d9e_row12_col11\" class=\"data row12 col11\" >-0.03</td>\n",
       "      <td id=\"T_d6d9e_row12_col12\" class=\"data row12 col12\" >1.00</td>\n",
       "      <td id=\"T_d6d9e_row12_col13\" class=\"data row12 col13\" >0.08</td>\n",
       "      <td id=\"T_d6d9e_row12_col14\" class=\"data row12 col14\" >-0.02</td>\n",
       "      <td id=\"T_d6d9e_row12_col15\" class=\"data row12 col15\" >-0.02</td>\n",
       "      <td id=\"T_d6d9e_row12_col16\" class=\"data row12 col16\" >-0.01</td>\n",
       "      <td id=\"T_d6d9e_row12_col17\" class=\"data row12 col17\" >0.01</td>\n",
       "      <td id=\"T_d6d9e_row12_col18\" class=\"data row12 col18\" >-0.01</td>\n",
       "      <td id=\"T_d6d9e_row12_col19\" class=\"data row12 col19\" >-0.01</td>\n",
       "      <td id=\"T_d6d9e_row12_col20\" class=\"data row12 col20\" >-0.04</td>\n",
       "      <td id=\"T_d6d9e_row12_col21\" class=\"data row12 col21\" >-0.01</td>\n",
       "    </tr>\n",
       "    <tr>\n",
       "      <th id=\"T_d6d9e_level0_row13\" class=\"row_heading level0 row13\" >SqFtDeck</th>\n",
       "      <td id=\"T_d6d9e_row13_col0\" class=\"data row13 col0\" >0.20</td>\n",
       "      <td id=\"T_d6d9e_row13_col1\" class=\"data row13 col1\" >-0.05</td>\n",
       "      <td id=\"T_d6d9e_row13_col2\" class=\"data row13 col2\" >-0.07</td>\n",
       "      <td id=\"T_d6d9e_row13_col3\" class=\"data row13 col3\" >-0.00</td>\n",
       "      <td id=\"T_d6d9e_row13_col4\" class=\"data row13 col4\" >0.17</td>\n",
       "      <td id=\"T_d6d9e_row13_col5\" class=\"data row13 col5\" >0.12</td>\n",
       "      <td id=\"T_d6d9e_row13_col6\" class=\"data row13 col6\" >0.17</td>\n",
       "      <td id=\"T_d6d9e_row13_col7\" class=\"data row13 col7\" >0.25</td>\n",
       "      <td id=\"T_d6d9e_row13_col8\" class=\"data row13 col8\" >0.07</td>\n",
       "      <td id=\"T_d6d9e_row13_col9\" class=\"data row13 col9\" >-0.09</td>\n",
       "      <td id=\"T_d6d9e_row13_col10\" class=\"data row13 col10\" >0.29</td>\n",
       "      <td id=\"T_d6d9e_row13_col11\" class=\"data row13 col11\" >-0.13</td>\n",
       "      <td id=\"T_d6d9e_row13_col12\" class=\"data row13 col12\" >0.08</td>\n",
       "      <td id=\"T_d6d9e_row13_col13\" class=\"data row13 col13\" >1.00</td>\n",
       "      <td id=\"T_d6d9e_row13_col14\" class=\"data row13 col14\" >-0.06</td>\n",
       "      <td id=\"T_d6d9e_row13_col15\" class=\"data row13 col15\" >-0.01</td>\n",
       "      <td id=\"T_d6d9e_row13_col16\" class=\"data row13 col16\" >0.11</td>\n",
       "      <td id=\"T_d6d9e_row13_col17\" class=\"data row13 col17\" >0.22</td>\n",
       "      <td id=\"T_d6d9e_row13_col18\" class=\"data row13 col18\" >0.02</td>\n",
       "      <td id=\"T_d6d9e_row13_col19\" class=\"data row13 col19\" >0.21</td>\n",
       "      <td id=\"T_d6d9e_row13_col20\" class=\"data row13 col20\" >-0.12</td>\n",
       "      <td id=\"T_d6d9e_row13_col21\" class=\"data row13 col21\" >0.09</td>\n",
       "    </tr>\n",
       "    <tr>\n",
       "      <th id=\"T_d6d9e_level0_row14\" class=\"row_heading level0 row14\" >BrickStone</th>\n",
       "      <td id=\"T_d6d9e_row14_col0\" class=\"data row14 col0\" >0.08</td>\n",
       "      <td id=\"T_d6d9e_row14_col1\" class=\"data row14 col1\" >0.08</td>\n",
       "      <td id=\"T_d6d9e_row14_col2\" class=\"data row14 col2\" >0.08</td>\n",
       "      <td id=\"T_d6d9e_row14_col3\" class=\"data row14 col3\" >-0.11</td>\n",
       "      <td id=\"T_d6d9e_row14_col4\" class=\"data row14 col4\" >-0.04</td>\n",
       "      <td id=\"T_d6d9e_row14_col5\" class=\"data row14 col5\" >0.04</td>\n",
       "      <td id=\"T_d6d9e_row14_col6\" class=\"data row14 col6\" >0.17</td>\n",
       "      <td id=\"T_d6d9e_row14_col7\" class=\"data row14 col7\" >0.11</td>\n",
       "      <td id=\"T_d6d9e_row14_col8\" class=\"data row14 col8\" >0.04</td>\n",
       "      <td id=\"T_d6d9e_row14_col9\" class=\"data row14 col9\" >-0.06</td>\n",
       "      <td id=\"T_d6d9e_row14_col10\" class=\"data row14 col10\" >-0.04</td>\n",
       "      <td id=\"T_d6d9e_row14_col11\" class=\"data row14 col11\" >-0.03</td>\n",
       "      <td id=\"T_d6d9e_row14_col12\" class=\"data row14 col12\" >-0.02</td>\n",
       "      <td id=\"T_d6d9e_row14_col13\" class=\"data row14 col13\" >-0.06</td>\n",
       "      <td id=\"T_d6d9e_row14_col14\" class=\"data row14 col14\" >1.00</td>\n",
       "      <td id=\"T_d6d9e_row14_col15\" class=\"data row14 col15\" >-0.03</td>\n",
       "      <td id=\"T_d6d9e_row14_col16\" class=\"data row14 col16\" >-0.02</td>\n",
       "      <td id=\"T_d6d9e_row14_col17\" class=\"data row14 col17\" >-0.03</td>\n",
       "      <td id=\"T_d6d9e_row14_col18\" class=\"data row14 col18\" >-0.06</td>\n",
       "      <td id=\"T_d6d9e_row14_col19\" class=\"data row14 col19\" >-0.16</td>\n",
       "      <td id=\"T_d6d9e_row14_col20\" class=\"data row14 col20\" >-0.10</td>\n",
       "      <td id=\"T_d6d9e_row14_col21\" class=\"data row14 col21\" >0.05</td>\n",
       "    </tr>\n",
       "    <tr>\n",
       "      <th id=\"T_d6d9e_level0_row15\" class=\"row_heading level0 row15\" >Bedrooms</th>\n",
       "      <td id=\"T_d6d9e_row15_col0\" class=\"data row15 col0\" >0.26</td>\n",
       "      <td id=\"T_d6d9e_row15_col1\" class=\"data row15 col1\" >0.45</td>\n",
       "      <td id=\"T_d6d9e_row15_col2\" class=\"data row15 col2\" >0.09</td>\n",
       "      <td id=\"T_d6d9e_row15_col3\" class=\"data row15 col3\" >0.30</td>\n",
       "      <td id=\"T_d6d9e_row15_col4\" class=\"data row15 col4\" >-0.13</td>\n",
       "      <td id=\"T_d6d9e_row15_col5\" class=\"data row15 col5\" >0.66</td>\n",
       "      <td id=\"T_d6d9e_row15_col6\" class=\"data row15 col6\" >0.24</td>\n",
       "      <td id=\"T_d6d9e_row15_col7\" class=\"data row15 col7\" >0.32</td>\n",
       "      <td id=\"T_d6d9e_row15_col8\" class=\"data row15 col8\" >0.03</td>\n",
       "      <td id=\"T_d6d9e_row15_col9\" class=\"data row15 col9\" >0.29</td>\n",
       "      <td id=\"T_d6d9e_row15_col10\" class=\"data row15 col10\" >0.10</td>\n",
       "      <td id=\"T_d6d9e_row15_col11\" class=\"data row15 col11\" >0.22</td>\n",
       "      <td id=\"T_d6d9e_row15_col12\" class=\"data row15 col12\" >-0.02</td>\n",
       "      <td id=\"T_d6d9e_row15_col13\" class=\"data row15 col13\" >-0.01</td>\n",
       "      <td id=\"T_d6d9e_row15_col14\" class=\"data row15 col14\" >-0.03</td>\n",
       "      <td id=\"T_d6d9e_row15_col15\" class=\"data row15 col15\" >1.00</td>\n",
       "      <td id=\"T_d6d9e_row15_col16\" class=\"data row15 col16\" >0.14</td>\n",
       "      <td id=\"T_d6d9e_row15_col17\" class=\"data row15 col17\" >0.19</td>\n",
       "      <td id=\"T_d6d9e_row15_col18\" class=\"data row15 col18\" >0.40</td>\n",
       "      <td id=\"T_d6d9e_row15_col19\" class=\"data row15 col19\" >0.06</td>\n",
       "      <td id=\"T_d6d9e_row15_col20\" class=\"data row15 col20\" >0.29</td>\n",
       "      <td id=\"T_d6d9e_row15_col21\" class=\"data row15 col21\" >-0.05</td>\n",
       "    </tr>\n",
       "    <tr>\n",
       "      <th id=\"T_d6d9e_level0_row16\" class=\"row_heading level0 row16\" >BathHalfCount</th>\n",
       "      <td id=\"T_d6d9e_row16_col0\" class=\"data row16 col0\" >0.17</td>\n",
       "      <td id=\"T_d6d9e_row16_col1\" class=\"data row16 col1\" >0.02</td>\n",
       "      <td id=\"T_d6d9e_row16_col2\" class=\"data row16 col2\" >-0.01</td>\n",
       "      <td id=\"T_d6d9e_row16_col3\" class=\"data row16 col3\" >0.29</td>\n",
       "      <td id=\"T_d6d9e_row16_col4\" class=\"data row16 col4\" >0.04</td>\n",
       "      <td id=\"T_d6d9e_row16_col5\" class=\"data row16 col5\" >0.25</td>\n",
       "      <td id=\"T_d6d9e_row16_col6\" class=\"data row16 col6\" >-0.00</td>\n",
       "      <td id=\"T_d6d9e_row16_col7\" class=\"data row16 col7\" >0.04</td>\n",
       "      <td id=\"T_d6d9e_row16_col8\" class=\"data row16 col8\" >0.10</td>\n",
       "      <td id=\"T_d6d9e_row16_col9\" class=\"data row16 col9\" >0.11</td>\n",
       "      <td id=\"T_d6d9e_row16_col10\" class=\"data row16 col10\" >0.08</td>\n",
       "      <td id=\"T_d6d9e_row16_col11\" class=\"data row16 col11\" >0.12</td>\n",
       "      <td id=\"T_d6d9e_row16_col12\" class=\"data row16 col12\" >-0.01</td>\n",
       "      <td id=\"T_d6d9e_row16_col13\" class=\"data row16 col13\" >0.11</td>\n",
       "      <td id=\"T_d6d9e_row16_col14\" class=\"data row16 col14\" >-0.02</td>\n",
       "      <td id=\"T_d6d9e_row16_col15\" class=\"data row16 col15\" >0.14</td>\n",
       "      <td id=\"T_d6d9e_row16_col16\" class=\"data row16 col16\" >1.00</td>\n",
       "      <td id=\"T_d6d9e_row16_col17\" class=\"data row16 col17\" >-0.07</td>\n",
       "      <td id=\"T_d6d9e_row16_col18\" class=\"data row16 col18\" >0.10</td>\n",
       "      <td id=\"T_d6d9e_row16_col19\" class=\"data row16 col19\" >0.26</td>\n",
       "      <td id=\"T_d6d9e_row16_col20\" class=\"data row16 col20\" >0.05</td>\n",
       "      <td id=\"T_d6d9e_row16_col21\" class=\"data row16 col21\" >0.01</td>\n",
       "    </tr>\n",
       "    <tr>\n",
       "      <th id=\"T_d6d9e_level0_row17\" class=\"row_heading level0 row17\" >Bath3qtrCount</th>\n",
       "      <td id=\"T_d6d9e_row17_col0\" class=\"data row17 col0\" >0.19</td>\n",
       "      <td id=\"T_d6d9e_row17_col1\" class=\"data row17 col1\" >0.09</td>\n",
       "      <td id=\"T_d6d9e_row17_col2\" class=\"data row17 col2\" >-0.09</td>\n",
       "      <td id=\"T_d6d9e_row17_col3\" class=\"data row17 col3\" >0.08</td>\n",
       "      <td id=\"T_d6d9e_row17_col4\" class=\"data row17 col4\" >0.05</td>\n",
       "      <td id=\"T_d6d9e_row17_col5\" class=\"data row17 col5\" >0.28</td>\n",
       "      <td id=\"T_d6d9e_row17_col6\" class=\"data row17 col6\" >0.22</td>\n",
       "      <td id=\"T_d6d9e_row17_col7\" class=\"data row17 col7\" >0.33</td>\n",
       "      <td id=\"T_d6d9e_row17_col8\" class=\"data row17 col8\" >0.19</td>\n",
       "      <td id=\"T_d6d9e_row17_col9\" class=\"data row17 col9\" >0.03</td>\n",
       "      <td id=\"T_d6d9e_row17_col10\" class=\"data row17 col10\" >0.33</td>\n",
       "      <td id=\"T_d6d9e_row17_col11\" class=\"data row17 col11\" >0.02</td>\n",
       "      <td id=\"T_d6d9e_row17_col12\" class=\"data row17 col12\" >0.01</td>\n",
       "      <td id=\"T_d6d9e_row17_col13\" class=\"data row17 col13\" >0.22</td>\n",
       "      <td id=\"T_d6d9e_row17_col14\" class=\"data row17 col14\" >-0.03</td>\n",
       "      <td id=\"T_d6d9e_row17_col15\" class=\"data row17 col15\" >0.19</td>\n",
       "      <td id=\"T_d6d9e_row17_col16\" class=\"data row17 col16\" >-0.07</td>\n",
       "      <td id=\"T_d6d9e_row17_col17\" class=\"data row17 col17\" >1.00</td>\n",
       "      <td id=\"T_d6d9e_row17_col18\" class=\"data row17 col18\" >-0.26</td>\n",
       "      <td id=\"T_d6d9e_row17_col19\" class=\"data row17 col19\" >0.28</td>\n",
       "      <td id=\"T_d6d9e_row17_col20\" class=\"data row17 col20\" >0.09</td>\n",
       "      <td id=\"T_d6d9e_row17_col21\" class=\"data row17 col21\" >0.08</td>\n",
       "    </tr>\n",
       "    <tr>\n",
       "      <th id=\"T_d6d9e_level0_row18\" class=\"row_heading level0 row18\" >BathFullCount</th>\n",
       "      <td id=\"T_d6d9e_row18_col0\" class=\"data row18 col0\" >0.29</td>\n",
       "      <td id=\"T_d6d9e_row18_col1\" class=\"data row18 col1\" >0.19</td>\n",
       "      <td id=\"T_d6d9e_row18_col2\" class=\"data row18 col2\" >-0.03</td>\n",
       "      <td id=\"T_d6d9e_row18_col3\" class=\"data row18 col3\" >0.50</td>\n",
       "      <td id=\"T_d6d9e_row18_col4\" class=\"data row18 col4\" >0.01</td>\n",
       "      <td id=\"T_d6d9e_row18_col5\" class=\"data row18 col5\" >0.53</td>\n",
       "      <td id=\"T_d6d9e_row18_col6\" class=\"data row18 col6\" >0.03</td>\n",
       "      <td id=\"T_d6d9e_row18_col7\" class=\"data row18 col7\" >0.12</td>\n",
       "      <td id=\"T_d6d9e_row18_col8\" class=\"data row18 col8\" >0.00</td>\n",
       "      <td id=\"T_d6d9e_row18_col9\" class=\"data row18 col9\" >0.26</td>\n",
       "      <td id=\"T_d6d9e_row18_col10\" class=\"data row18 col10\" >-0.02</td>\n",
       "      <td id=\"T_d6d9e_row18_col11\" class=\"data row18 col11\" >0.27</td>\n",
       "      <td id=\"T_d6d9e_row18_col12\" class=\"data row18 col12\" >-0.01</td>\n",
       "      <td id=\"T_d6d9e_row18_col13\" class=\"data row18 col13\" >0.02</td>\n",
       "      <td id=\"T_d6d9e_row18_col14\" class=\"data row18 col14\" >-0.06</td>\n",
       "      <td id=\"T_d6d9e_row18_col15\" class=\"data row18 col15\" >0.40</td>\n",
       "      <td id=\"T_d6d9e_row18_col16\" class=\"data row18 col16\" >0.10</td>\n",
       "      <td id=\"T_d6d9e_row18_col17\" class=\"data row18 col17\" >-0.26</td>\n",
       "      <td id=\"T_d6d9e_row18_col18\" class=\"data row18 col18\" >1.00</td>\n",
       "      <td id=\"T_d6d9e_row18_col19\" class=\"data row18 col19\" >0.31</td>\n",
       "      <td id=\"T_d6d9e_row18_col20\" class=\"data row18 col20\" >0.20</td>\n",
       "      <td id=\"T_d6d9e_row18_col21\" class=\"data row18 col21\" >-0.05</td>\n",
       "    </tr>\n",
       "    <tr>\n",
       "      <th id=\"T_d6d9e_level0_row19\" class=\"row_heading level0 row19\" >YrBuilt</th>\n",
       "      <td id=\"T_d6d9e_row19_col0\" class=\"data row19 col0\" >0.13</td>\n",
       "      <td id=\"T_d6d9e_row19_col1\" class=\"data row19 col1\" >-0.25</td>\n",
       "      <td id=\"T_d6d9e_row19_col2\" class=\"data row19 col2\" >-0.30</td>\n",
       "      <td id=\"T_d6d9e_row19_col3\" class=\"data row19 col3\" >0.59</td>\n",
       "      <td id=\"T_d6d9e_row19_col4\" class=\"data row19 col4\" >0.32</td>\n",
       "      <td id=\"T_d6d9e_row19_col5\" class=\"data row19 col5\" >0.24</td>\n",
       "      <td id=\"T_d6d9e_row19_col6\" class=\"data row19 col6\" >-0.24</td>\n",
       "      <td id=\"T_d6d9e_row19_col7\" class=\"data row19 col7\" >-0.02</td>\n",
       "      <td id=\"T_d6d9e_row19_col8\" class=\"data row19 col8\" >0.08</td>\n",
       "      <td id=\"T_d6d9e_row19_col9\" class=\"data row19 col9\" >0.19</td>\n",
       "      <td id=\"T_d6d9e_row19_col10\" class=\"data row19 col10\" >0.19</td>\n",
       "      <td id=\"T_d6d9e_row19_col11\" class=\"data row19 col11\" >0.12</td>\n",
       "      <td id=\"T_d6d9e_row19_col12\" class=\"data row19 col12\" >-0.01</td>\n",
       "      <td id=\"T_d6d9e_row19_col13\" class=\"data row19 col13\" >0.21</td>\n",
       "      <td id=\"T_d6d9e_row19_col14\" class=\"data row19 col14\" >-0.16</td>\n",
       "      <td id=\"T_d6d9e_row19_col15\" class=\"data row19 col15\" >0.06</td>\n",
       "      <td id=\"T_d6d9e_row19_col16\" class=\"data row19 col16\" >0.26</td>\n",
       "      <td id=\"T_d6d9e_row19_col17\" class=\"data row19 col17\" >0.28</td>\n",
       "      <td id=\"T_d6d9e_row19_col18\" class=\"data row19 col18\" >0.31</td>\n",
       "      <td id=\"T_d6d9e_row19_col19\" class=\"data row19 col19\" >1.00</td>\n",
       "      <td id=\"T_d6d9e_row19_col20\" class=\"data row19 col20\" >0.14</td>\n",
       "      <td id=\"T_d6d9e_row19_col21\" class=\"data row19 col21\" >-0.04</td>\n",
       "    </tr>\n",
       "    <tr>\n",
       "      <th id=\"T_d6d9e_level0_row20\" class=\"row_heading level0 row20\" >Longitude</th>\n",
       "      <td id=\"T_d6d9e_row20_col0\" class=\"data row20 col0\" >0.07</td>\n",
       "      <td id=\"T_d6d9e_row20_col1\" class=\"data row20 col1\" >0.40</td>\n",
       "      <td id=\"T_d6d9e_row20_col2\" class=\"data row20 col2\" >-0.11</td>\n",
       "      <td id=\"T_d6d9e_row20_col3\" class=\"data row20 col3\" >0.18</td>\n",
       "      <td id=\"T_d6d9e_row20_col4\" class=\"data row20 col4\" >-0.17</td>\n",
       "      <td id=\"T_d6d9e_row20_col5\" class=\"data row20 col5\" >0.32</td>\n",
       "      <td id=\"T_d6d9e_row20_col6\" class=\"data row20 col6\" >-0.07</td>\n",
       "      <td id=\"T_d6d9e_row20_col7\" class=\"data row20 col7\" >0.03</td>\n",
       "      <td id=\"T_d6d9e_row20_col8\" class=\"data row20 col8\" >0.03</td>\n",
       "      <td id=\"T_d6d9e_row20_col9\" class=\"data row20 col9\" >0.44</td>\n",
       "      <td id=\"T_d6d9e_row20_col10\" class=\"data row20 col10\" >0.01</td>\n",
       "      <td id=\"T_d6d9e_row20_col11\" class=\"data row20 col11\" >0.19</td>\n",
       "      <td id=\"T_d6d9e_row20_col12\" class=\"data row20 col12\" >-0.04</td>\n",
       "      <td id=\"T_d6d9e_row20_col13\" class=\"data row20 col13\" >-0.12</td>\n",
       "      <td id=\"T_d6d9e_row20_col14\" class=\"data row20 col14\" >-0.10</td>\n",
       "      <td id=\"T_d6d9e_row20_col15\" class=\"data row20 col15\" >0.29</td>\n",
       "      <td id=\"T_d6d9e_row20_col16\" class=\"data row20 col16\" >0.05</td>\n",
       "      <td id=\"T_d6d9e_row20_col17\" class=\"data row20 col17\" >0.09</td>\n",
       "      <td id=\"T_d6d9e_row20_col18\" class=\"data row20 col18\" >0.20</td>\n",
       "      <td id=\"T_d6d9e_row20_col19\" class=\"data row20 col19\" >0.14</td>\n",
       "      <td id=\"T_d6d9e_row20_col20\" class=\"data row20 col20\" >1.00</td>\n",
       "      <td id=\"T_d6d9e_row20_col21\" class=\"data row20 col21\" >-0.19</td>\n",
       "    </tr>\n",
       "    <tr>\n",
       "      <th id=\"T_d6d9e_level0_row21\" class=\"row_heading level0 row21\" >Latitude</th>\n",
       "      <td id=\"T_d6d9e_row21_col0\" class=\"data row21 col0\" >0.41</td>\n",
       "      <td id=\"T_d6d9e_row21_col1\" class=\"data row21 col1\" >-0.12</td>\n",
       "      <td id=\"T_d6d9e_row21_col2\" class=\"data row21 col2\" >0.07</td>\n",
       "      <td id=\"T_d6d9e_row21_col3\" class=\"data row21 col3\" >-0.01</td>\n",
       "      <td id=\"T_d6d9e_row21_col4\" class=\"data row21 col4\" >0.09</td>\n",
       "      <td id=\"T_d6d9e_row21_col5\" class=\"data row21 col5\" >-0.02</td>\n",
       "      <td id=\"T_d6d9e_row21_col6\" class=\"data row21 col6\" >0.14</td>\n",
       "      <td id=\"T_d6d9e_row21_col7\" class=\"data row21 col7\" >0.06</td>\n",
       "      <td id=\"T_d6d9e_row21_col8\" class=\"data row21 col8\" >0.09</td>\n",
       "      <td id=\"T_d6d9e_row21_col9\" class=\"data row21 col9\" >-0.22</td>\n",
       "      <td id=\"T_d6d9e_row21_col10\" class=\"data row21 col10\" >0.09</td>\n",
       "      <td id=\"T_d6d9e_row21_col11\" class=\"data row21 col11\" >-0.06</td>\n",
       "      <td id=\"T_d6d9e_row21_col12\" class=\"data row21 col12\" >-0.01</td>\n",
       "      <td id=\"T_d6d9e_row21_col13\" class=\"data row21 col13\" >0.09</td>\n",
       "      <td id=\"T_d6d9e_row21_col14\" class=\"data row21 col14\" >0.05</td>\n",
       "      <td id=\"T_d6d9e_row21_col15\" class=\"data row21 col15\" >-0.05</td>\n",
       "      <td id=\"T_d6d9e_row21_col16\" class=\"data row21 col16\" >0.01</td>\n",
       "      <td id=\"T_d6d9e_row21_col17\" class=\"data row21 col17\" >0.08</td>\n",
       "      <td id=\"T_d6d9e_row21_col18\" class=\"data row21 col18\" >-0.05</td>\n",
       "      <td id=\"T_d6d9e_row21_col19\" class=\"data row21 col19\" >-0.04</td>\n",
       "      <td id=\"T_d6d9e_row21_col20\" class=\"data row21 col20\" >-0.19</td>\n",
       "      <td id=\"T_d6d9e_row21_col21\" class=\"data row21 col21\" >1.00</td>\n",
       "    </tr>\n",
       "  </tbody>\n",
       "</table>\n"
      ],
      "text/plain": [
       "<pandas.io.formats.style.Styler at 0x1479e7ae3b0>"
      ]
     },
     "execution_count": 8,
     "metadata": {},
     "output_type": "execute_result"
    }
   ],
   "source": [
    "num_cols = df.select_dtypes(include='number')\n",
    "\n",
    "corr = num_cols.corr()\n",
    "corr.style.background_gradient(cmap='coolwarm').format('{:.2f}')"
   ]
  },
  {
   "cell_type": "markdown",
   "metadata": {},
   "source": [
    "# 2. Data Visualization"
   ]
  },
  {
   "cell_type": "code",
   "execution_count": 9,
   "metadata": {},
   "outputs": [
    {
     "data": {
      "text/plain": [
       "array([[<Axes: title={'center': 'SalePrice'}>,\n",
       "        <Axes: title={'center': 'SqFt1stFloor'}>,\n",
       "        <Axes: title={'center': 'SqFtHalfFloor'}>,\n",
       "        <Axes: title={'center': 'SqFt2ndFloor'}>,\n",
       "        <Axes: title={'center': 'SqFtUpperFloor'}>],\n",
       "       [<Axes: title={'center': 'SqFtTotLiving'}>,\n",
       "        <Axes: title={'center': 'SqFtTotBasement'}>,\n",
       "        <Axes: title={'center': 'SqFtFinBasement'}>,\n",
       "        <Axes: title={'center': 'SqFtGarageBasement'}>,\n",
       "        <Axes: title={'center': 'SqFtGarageAttached'}>],\n",
       "       [<Axes: title={'center': 'DaylightBasement'}>,\n",
       "        <Axes: title={'center': 'SqFtOpenPorch'}>,\n",
       "        <Axes: title={'center': 'SqFtEnclosedPorch'}>,\n",
       "        <Axes: title={'center': 'SqFtDeck'}>,\n",
       "        <Axes: title={'center': 'BrickStone'}>],\n",
       "       [<Axes: title={'center': 'Bedrooms'}>,\n",
       "        <Axes: title={'center': 'BathHalfCount'}>,\n",
       "        <Axes: title={'center': 'Bath3qtrCount'}>,\n",
       "        <Axes: title={'center': 'BathFullCount'}>,\n",
       "        <Axes: title={'center': 'YrBuilt'}>],\n",
       "       [<Axes: title={'center': 'Longitude'}>,\n",
       "        <Axes: title={'center': 'Latitude'}>, <Axes: >, <Axes: >,\n",
       "        <Axes: >]], dtype=object)"
      ]
     },
     "execution_count": 9,
     "metadata": {},
     "output_type": "execute_result"
    },
    {
     "data": {
      "image/png": "[encoded data removed]",
      "text/plain": [
       "<Figure size 1500x1200 with 25 Axes>"
      ]
     },
     "metadata": {},
     "output_type": "display_data"
    }
   ],
   "source": [
    "#Data Overview\n",
    "df.hist(figsize=(15,12), bins=10, grid=False)"
   ]
  },
  {
   "cell_type": "code",
   "execution_count": 11,
   "metadata": {},
   "outputs": [
    {
     "data": {
      "text/plain": [
       "Index(['SalePrice', 'SqFt1stFloor', 'SqFtHalfFloor', 'SqFt2ndFloor',\n",
       "       'SqFtUpperFloor', 'SqFtTotLiving', 'SqFtTotBasement', 'SqFtFinBasement',\n",
       "       'SqFtGarageBasement', 'SqFtGarageAttached', 'DaylightBasement',\n",
       "       'SqFtOpenPorch', 'SqFtEnclosedPorch', 'SqFtDeck', 'BrickStone',\n",
       "       'Bedrooms', 'BathHalfCount', 'Bath3qtrCount', 'BathFullCount',\n",
       "       'YrBuilt', 'Longitude', 'Latitude'],\n",
       "      dtype='object')"
      ]
     },
     "execution_count": 11,
     "metadata": {},
     "output_type": "execute_result"
    }
   ],
   "source": [
    "df.columns"
   ]
  },
  {
   "cell_type": "code",
   "execution_count": 12,
   "metadata": {},
   "outputs": [
    {
     "data": {
      "image/png": "[encoded data removed]",
      "text/plain": [
       "<Figure size 600x600 with 2 Axes>"
      ]
     },
     "metadata": {},
     "output_type": "display_data"
    }
   ],
   "source": [
    "feature = 'SalePrice'\n",
    "\n",
    "fig, axes = plt.subplots(nrows=2, figsize=(6,6), sharex=True)\n",
    "sn.histplot(df[feature], bins='auto', kde=True, ax=axes[0])\n",
    "axes[0].tick_params(axis='x', rotation=45)\n",
    "axes[0].set_title(f'Histogram of {feature}')\n",
    "\n",
    "sn.boxplot(data=df, x=feature, ax=axes[1])\n",
    "#remove grids\n",
    "axes[0].grid(False)\n",
    "axes[1].grid(False)\n",
    "plt.tight_layout()\n",
    "plt.show()"
   ]
  },
  {
   "cell_type": "markdown",
   "metadata": {},
   "source": [
    "### Observations\n",
    "- The distribution of sale prices is right-skewed, meaning that most of the sale prices are concentrated on the lower end, with a long tail extending to the right.\n",
    "- There is a peak around $500,000, indicating that this price range has the highest frequency of sales.\n",
    "- The highest frequency of sale prices falls between $400,000 and $600,000, indicating that most houses are sold within this range."
   ]
  },
  {
   "cell_type": "code",
   "execution_count": 17,
   "metadata": {},
   "outputs": [
    {
     "data": {
      "image/png": "[encoded data removed]",
      "text/plain": [
       "<Figure size 1000x600 with 1 Axes>"
      ]
     },
     "metadata": {},
     "output_type": "display_data"
    },
    {
     "data": {
      "image/png": "[encoded data removed]",
      "text/plain": [
       "<Figure size 1000x600 with 1 Axes>"
      ]
     },
     "metadata": {},
     "output_type": "display_data"
    }
   ],
   "source": [
    "categorical_features = ['Bedrooms', 'BathFullCount']\n",
    "for feature in categorical_features:\n",
    "    plt.figure(figsize=(10, 6))\n",
    "    sn.boxplot(x=df[feature], y=df['SalePrice'])\n",
    "    plt.title(f'Sale Price vs {feature}')\n",
    "    plt.xlabel(feature)\n",
    "    plt.ylabel('SalePrice')\n",
    "    plt.show()"
   ]
  },
  {
   "cell_type": "markdown",
   "metadata": {},
   "source": [
    "### Observations\n",
    "*Sale Price vs Bedrooms*\n",
    "- The highest median sale prices are seen in houses with 8 bedrooms, while the median prices for 5 and 6 bedrooms also tend to be higher.\n",
    "- Houses with 4 bedrooms show a considerable number of outliers above the upper whisker, indicating some properties are much more expensive than others within this category.\n",
    "\n",
    "*Sale Price vs Bathrooms*\n",
    "- As the number of full bathrooms increases from 0 to 3, the sale prices increase notably.\n",
    "- Houses with 5 full bathrooms have a high median price but a narrow range, suggesting they might be luxury properties with consistent pricing."
   ]
  },
  {
   "cell_type": "markdown",
   "metadata": {},
   "source": [
    "# 3. Silhouettes & Inertia"
   ]
  },
  {
   "cell_type": "code",
   "execution_count": 23,
   "metadata": {},
   "outputs": [],
   "source": [
    "import pandas as pd\n",
    "import numpy as np\n",
    "import matplotlib.pyplot as plt\n",
    "import plotly.express as px\n",
    "import plotly.graph_objects as go\n",
    "from plotly.subplots import make_subplots\n",
    "\n",
    "# Preprocessing\n",
    "from sklearn.preprocessing import StandardScaler\n",
    "from sklearn.model_selection import train_test_split\n",
    "\n",
    "# Clustering and Dimensionality Reduction\n",
    "from sklearn.cluster import KMeans\n",
    "from sklearn.decomposition import PCA\n",
    "\n",
    "# Deep Learning\n",
    "import tensorflow as tf\n",
    "from tensorflow.keras.layers import Dense, Dropout\n",
    "from tensorflow.keras.models import Sequential\n",
    "from tensorflow.keras.callbacks import EarlyStopping\n",
    "import keras_tuner as kt\n",
    "from keras_tuner import HyperParameters as hp\n",
    "\n",
    "# Metrics\n",
    "from sklearn.metrics import (\n",
    "    accuracy_score, recall_score, precision_score, f1_score,\n",
    "    classification_report, confusion_matrix, ConfusionMatrixDisplay,\n",
    "    silhouette_score\n",
    ")\n",
    "\n",
    "from tensorflow.keras.metrics import Recall, Precision\n",
    "\n",
    "# Progress bars\n",
    "from tqdm import tqdm, trange\n",
    "from tqdm.keras import TqdmCallback\n",
    "\n",
    "#utilities\n",
    "import pickle\n",
    "import os"
   ]
  },
  {
   "cell_type": "code",
   "execution_count": 22,
   "metadata": {},
   "outputs": [],
   "source": [
    "df_copy = df.copy()\n",
    "\n",
    "def scale_features(df):\n",
    "    scaler = StandardScaler()\n",
    "    scaled_data = scaler.fit_transform(df)\n",
    "    scaled_df = pd.DataFrame(scaled_data, columns = df.columns)\n",
    "    return scaled_df"
   ]
  },
  {
   "cell_type": "code",
   "execution_count": 33,
   "metadata": {},
   "outputs": [],
   "source": [
    "def calculate_kmeans_score(scaled_df, k_range):\n",
    "    \n",
    "    inertias = []\n",
    "    silhouettes = []\n",
    "    \n",
    "    for k in trange(k_range.start, k_range.stop): # trange adds a progress bar using tqdm\n",
    "        kmeans = KMeans(n_clusters=k, random_state=42, n_init=5)\n",
    "        kmeans.fit(scaled_df)\n",
    "        \n",
    "        inertias.append(kmeans.inertia_)\n",
    "        \n",
    "        # Ensure silhouette score calculation is correct\n",
    "        if len(set(kmeans.labels_)) > 1: # at least 2 clusters\n",
    "            silhouettes.append(silhouette_score(scaled_df, kmeans.labels_))\n",
    "        else:\n",
    "            silhouettes.append(float('nan'))\n",
    "            \n",
    "    return inertias, silhouettes"
   ]
  },
  {
   "cell_type": "code",
   "execution_count": 34,
   "metadata": {},
   "outputs": [],
   "source": [
    "def plot_kmeans_scores(k_range, inertias, silhouettes):\n",
    "    # Create subplots\n",
    "    fig = make_subplots(rows=1, cols=2, subplot_titles=(\"Inertia Scores\", \"Silhouette Scores\"))\n",
    "\n",
    "    # Add Inertia scores trace\n",
    "    fig.add_trace(go.Scatter(\n",
    "        x=list(k_range),\n",
    "        y=inertias,\n",
    "        mode='lines+markers',\n",
    "        name='Inertia',\n",
    "        line=dict(color='blue'),\n",
    "        marker=dict(color='blue')\n",
    "    ),row=1, col=1)\n",
    "\n",
    "    # Add Silhouette scores trace\n",
    "    fig.add_trace(go.Scatter(\n",
    "        x=list(k_range),\n",
    "        y=silhouettes,\n",
    "        mode='lines+markers',\n",
    "        name='Silhouettes',\n",
    "        line=dict(color='red'),\n",
    "        marker=dict(color='red')\n",
    "    ),row=1, col=2)\n",
    "\n",
    "    # Update layout\n",
    "    fig.update_layout(\n",
    "        title_text=\"KMeans Clustering Scores\",\n",
    "        showlegend=False,\n",
    "        height=500,\n",
    "        width=1000,\n",
    "    )\n",
    "\n",
    "    # Update x and y axis titles\n",
    "    fig.update_xaxes(title_text=\"Number of Clusters (K)\", row=1, col=1)\n",
    "    fig.update_yaxes(title_text=\"Inertia\", row=1, col=1)\n",
    "    fig.update_xaxes(title_text=\"Number of Clusters (K)\", row=1, col=2)\n",
    "    fig.update_yaxes(title_text=\"Silhouette\", row=1, col=2)\n",
    "\n",
    "    fig.show()"
   ]
  },
  {
   "cell_type": "code",
   "execution_count": 35,
   "metadata": {},
   "outputs": [
    {
     "name": "stderr",
     "output_type": "stream",
     "text": [
      "100%|██████████| 8/8 [00:04<00:00,  1.80it/s]\n"
     ]
    },
    {
     "data": {
      "application/vnd.plotly.v1+json": {
       "config": {
        "plotlyServerURL": "https://plot.ly"
       },
       "data": [
        {
         "line": {
          "color": "blue"
         },
         "marker": {
          "color": "blue"
         },
         "mode": "lines+markers",
         "name": "Inertia",
         "type": "scatter",
         "x": [
          2,
          3,
          4,
          5,
          6,
          7,
          8,
          9
         ],
         "xaxis": "x",
         "y": [
          95849.39659359585,
          84752.8091784303,
          78235.17646540978,
          72317.8659059037,
          68524.75766372749,
          65799.44093396296,
          61984.9398336826,
          59537.832081213404
         ],
         "yaxis": "y"
        },
        {
         "line": {
          "color": "red"
         },
         "marker": {
          "color": "red"
         },
         "mode": "lines+markers",
         "name": "Silhouettes",
         "type": "scatter",
         "x": [
          2,
          3,
          4,
          5,
          6,
          7,
          8,
          9
         ],
         "xaxis": "x2",
         "y": [
          0.1619936367356306,
          0.15217079530234287,
          0.1737864153136146,
          0.18542160766136068,
          0.17693272745690472,
          0.14230817087504358,
          0.1555776992090151,
          0.1917270152929975
         ],
         "yaxis": "y2"
        }
       ],
       "layout": {
        "annotations": [
         {
          "font": {
           "size": 16
          },
          "showarrow": false,
          "text": "Inertia Scores",
          "x": 0.225,
          "xanchor": "center",
          "xref": "paper",
          "y": 1,
          "yanchor": "bottom",
          "yref": "paper"
         },
         {
          "font": {
           "size": 16
          },
          "showarrow": false,
          "text": "Silhouette Scores",
          "x": 0.775,
          "xanchor": "center",
          "xref": "paper",
          "y": 1,
          "yanchor": "bottom",
          "yref": "paper"
         }
        ],
        "height": 500,
        "showlegend": false,
        "template": {
         "data": {
          "bar": [
           {
            "error_x": {
             "color": "#2a3f5f"
            },
            "error_y": {
             "color": "#2a3f5f"
            },
            "marker": {
             "line": {
              "color": "#E5ECF6",
              "width": 0.5
             },
             "pattern": {
              "fillmode": "overlay",
              "size": 10,
              "solidity": 0.2
             }
            },
            "type": "bar"
           }
          ],
          "barpolar": [
           {
            "marker": {
             "line": {
              "color": "#E5ECF6",
              "width": 0.5
             },
             "pattern": {
              "fillmode": "overlay",
              "size": 10,
              "solidity": 0.2
             }
            },
            "type": "barpolar"
           }
          ],
          "carpet": [
           {
            "aaxis": {
             "endlinecolor": "#2a3f5f",
             "gridcolor": "white",
             "linecolor": "white",
             "minorgridcolor": "white",
             "startlinecolor": "#2a3f5f"
            },
            "baxis": {
             "endlinecolor": "#2a3f5f",
             "gridcolor": "white",
             "linecolor": "white",
             "minorgridcolor": "white",
             "startlinecolor": "#2a3f5f"
            },
            "type": "carpet"
           }
          ],
          "choropleth": [
           {
            "colorbar": {
             "outlinewidth": 0,
             "ticks": ""
            },
            "type": "choropleth"
           }
          ],
          "contour": [
           {
            "colorbar": {
             "outlinewidth": 0,
             "ticks": ""
            },
            "colorscale": [
             [
              0,
              "#0d0887"
             ],
             [
              0.1111111111111111,
              "#46039f"
             ],
             [
              0.2222222222222222,
              "#7201a8"
             ],
             [
              0.3333333333333333,
              "#9c179e"
             ],
             [
              0.4444444444444444,
              "#bd3786"
             ],
             [
              0.5555555555555556,
              "#d8576b"
             ],
             [
              0.6666666666666666,
              "#ed7953"
             ],
             [
              0.7777777777777778,
              "#fb9f3a"
             ],
             [
              0.8888888888888888,
              "#fdca26"
             ],
             [
              1,
              "#f0f921"
             ]
            ],
            "type": "contour"
           }
          ],
          "contourcarpet": [
           {
            "colorbar": {
             "outlinewidth": 0,
             "ticks": ""
            },
            "type": "contourcarpet"
           }
          ],
          "heatmap": [
           {
            "colorbar": {
             "outlinewidth": 0,
             "ticks": ""
            },
            "colorscale": [
             [
              0,
              "#0d0887"
             ],
             [
              0.1111111111111111,
              "#46039f"
             ],
             [
              0.2222222222222222,
              "#7201a8"
             ],
             [
              0.3333333333333333,
              "#9c179e"
             ],
             [
              0.4444444444444444,
              "#bd3786"
             ],
             [
              0.5555555555555556,
              "#d8576b"
             ],
             [
              0.6666666666666666,
              "#ed7953"
             ],
             [
              0.7777777777777778,
              "#fb9f3a"
             ],
             [
              0.8888888888888888,
              "#fdca26"
             ],
             [
              1,
              "#f0f921"
             ]
            ],
            "type": "heatmap"
           }
          ],
          "heatmapgl": [
           {
            "colorbar": {
             "outlinewidth": 0,
             "ticks": ""
            },
            "colorscale": [
             [
              0,
              "#0d0887"
             ],
             [
              0.1111111111111111,
              "#46039f"
             ],
             [
              0.2222222222222222,
              "#7201a8"
             ],
             [
              0.3333333333333333,
              "#9c179e"
             ],
             [
              0.4444444444444444,
              "#bd3786"
             ],
             [
              0.5555555555555556,
              "#d8576b"
             ],
             [
              0.6666666666666666,
              "#ed7953"
             ],
             [
              0.7777777777777778,
              "#fb9f3a"
             ],
             [
              0.8888888888888888,
              "#fdca26"
             ],
             [
              1,
              "#f0f921"
             ]
            ],
            "type": "heatmapgl"
           }
          ],
          "histogram": [
           {
            "marker": {
             "pattern": {
              "fillmode": "overlay",
              "size": 10,
              "solidity": 0.2
             }
            },
            "type": "histogram"
           }
          ],
          "histogram2d": [
           {
            "colorbar": {
             "outlinewidth": 0,
             "ticks": ""
            },
            "colorscale": [
             [
              0,
              "#0d0887"
             ],
             [
              0.1111111111111111,
              "#46039f"
             ],
             [
              0.2222222222222222,
              "#7201a8"
             ],
             [
              0.3333333333333333,
              "#9c179e"
             ],
             [
              0.4444444444444444,
              "#bd3786"
             ],
             [
              0.5555555555555556,
              "#d8576b"
             ],
             [
              0.6666666666666666,
              "#ed7953"
             ],
             [
              0.7777777777777778,
              "#fb9f3a"
             ],
             [
              0.8888888888888888,
              "#fdca26"
             ],
             [
              1,
              "#f0f921"
             ]
            ],
            "type": "histogram2d"
           }
          ],
          "histogram2dcontour": [
           {
            "colorbar": {
             "outlinewidth": 0,
             "ticks": ""
            },
            "colorscale": [
             [
              0,
              "#0d0887"
             ],
             [
              0.1111111111111111,
              "#46039f"
             ],
             [
              0.2222222222222222,
              "#7201a8"
             ],
             [
              0.3333333333333333,
              "#9c179e"
             ],
             [
              0.4444444444444444,
              "#bd3786"
             ],
             [
              0.5555555555555556,
              "#d8576b"
             ],
             [
              0.6666666666666666,
              "#ed7953"
             ],
             [
              0.7777777777777778,
              "#fb9f3a"
             ],
             [
              0.8888888888888888,
              "#fdca26"
             ],
             [
              1,
              "#f0f921"
             ]
            ],
            "type": "histogram2dcontour"
           }
          ],
          "mesh3d": [
           {
            "colorbar": {
             "outlinewidth": 0,
             "ticks": ""
            },
            "type": "mesh3d"
           }
          ],
          "parcoords": [
           {
            "line": {
             "colorbar": {
              "outlinewidth": 0,
              "ticks": ""
             }
            },
            "type": "parcoords"
           }
          ],
          "pie": [
           {
            "automargin": true,
            "type": "pie"
           }
          ],
          "scatter": [
           {
            "fillpattern": {
             "fillmode": "overlay",
             "size": 10,
             "solidity": 0.2
            },
            "type": "scatter"
           }
          ],
          "scatter3d": [
           {
            "line": {
             "colorbar": {
              "outlinewidth": 0,
              "ticks": ""
             }
            },
            "marker": {
             "colorbar": {
              "outlinewidth": 0,
              "ticks": ""
             }
            },
            "type": "scatter3d"
           }
          ],
          "scattercarpet": [
           {
            "marker": {
             "colorbar": {
              "outlinewidth": 0,
              "ticks": ""
             }
            },
            "type": "scattercarpet"
           }
          ],
          "scattergeo": [
           {
            "marker": {
             "colorbar": {
              "outlinewidth": 0,
              "ticks": ""
             }
            },
            "type": "scattergeo"
           }
          ],
          "scattergl": [
           {
            "marker": {
             "colorbar": {
              "outlinewidth": 0,
              "ticks": ""
             }
            },
            "type": "scattergl"
           }
          ],
          "scattermapbox": [
           {
            "marker": {
             "colorbar": {
              "outlinewidth": 0,
              "ticks": ""
             }
            },
            "type": "scattermapbox"
           }
          ],
          "scatterpolar": [
           {
            "marker": {
             "colorbar": {
              "outlinewidth": 0,
              "ticks": ""
             }
            },
            "type": "scatterpolar"
           }
          ],
          "scatterpolargl": [
           {
            "marker": {
             "colorbar": {
              "outlinewidth": 0,
              "ticks": ""
             }
            },
            "type": "scatterpolargl"
           }
          ],
          "scatterternary": [
           {
            "marker": {
             "colorbar": {
              "outlinewidth": 0,
              "ticks": ""
             }
            },
            "type": "scatterternary"
           }
          ],
          "surface": [
           {
            "colorbar": {
             "outlinewidth": 0,
             "ticks": ""
            },
            "colorscale": [
             [
              0,
              "#0d0887"
             ],
             [
              0.1111111111111111,
              "#46039f"
             ],
             [
              0.2222222222222222,
              "#7201a8"
             ],
             [
              0.3333333333333333,
              "#9c179e"
             ],
             [
              0.4444444444444444,
              "#bd3786"
             ],
             [
              0.5555555555555556,
              "#d8576b"
             ],
             [
              0.6666666666666666,
              "#ed7953"
             ],
             [
              0.7777777777777778,
              "#fb9f3a"
             ],
             [
              0.8888888888888888,
              "#fdca26"
             ],
             [
              1,
              "#f0f921"
             ]
            ],
            "type": "surface"
           }
          ],
          "table": [
           {
            "cells": {
             "fill": {
              "color": "#EBF0F8"
             },
             "line": {
              "color": "white"
             }
            },
            "header": {
             "fill": {
              "color": "#C8D4E3"
             },
             "line": {
              "color": "white"
             }
            },
            "type": "table"
           }
          ]
         },
         "layout": {
          "annotationdefaults": {
           "arrowcolor": "#2a3f5f",
           "arrowhead": 0,
           "arrowwidth": 1
          },
          "autotypenumbers": "strict",
          "coloraxis": {
           "colorbar": {
            "outlinewidth": 0,
            "ticks": ""
           }
          },
          "colorscale": {
           "diverging": [
            [
             0,
             "#8e0152"
            ],
            [
             0.1,
             "#c51b7d"
            ],
            [
             0.2,
             "#de77ae"
            ],
            [
             0.3,
             "#f1b6da"
            ],
            [
             0.4,
             "#fde0ef"
            ],
            [
             0.5,
             "#f7f7f7"
            ],
            [
             0.6,
             "#e6f5d0"
            ],
            [
             0.7,
             "#b8e186"
            ],
            [
             0.8,
             "#7fbc41"
            ],
            [
             0.9,
             "#4d9221"
            ],
            [
             1,
             "#276419"
            ]
           ],
           "sequential": [
            [
             0,
             "#0d0887"
            ],
            [
             0.1111111111111111,
             "#46039f"
            ],
            [
             0.2222222222222222,
             "#7201a8"
            ],
            [
             0.3333333333333333,
             "#9c179e"
            ],
            [
             0.4444444444444444,
             "#bd3786"
            ],
            [
             0.5555555555555556,
             "#d8576b"
            ],
            [
             0.6666666666666666,
             "#ed7953"
            ],
            [
             0.7777777777777778,
             "#fb9f3a"
            ],
            [
             0.8888888888888888,
             "#fdca26"
            ],
            [
             1,
             "#f0f921"
            ]
           ],
           "sequentialminus": [
            [
             0,
             "#0d0887"
            ],
            [
             0.1111111111111111,
             "#46039f"
            ],
            [
             0.2222222222222222,
             "#7201a8"
            ],
            [
             0.3333333333333333,
             "#9c179e"
            ],
            [
             0.4444444444444444,
             "#bd3786"
            ],
            [
             0.5555555555555556,
             "#d8576b"
            ],
            [
             0.6666666666666666,
             "#ed7953"
            ],
            [
             0.7777777777777778,
             "#fb9f3a"
            ],
            [
             0.8888888888888888,
             "#fdca26"
            ],
            [
             1,
             "#f0f921"
            ]
           ]
          },
          "colorway": [
           "#636efa",
           "#EF553B",
           "#00cc96",
           "#ab63fa",
           "#FFA15A",
           "#19d3f3",
           "#FF6692",
           "#B6E880",
           "#FF97FF",
           "#FECB52"
          ],
          "font": {
           "color": "#2a3f5f"
          },
          "geo": {
           "bgcolor": "white",
           "lakecolor": "white",
           "landcolor": "#E5ECF6",
           "showlakes": true,
           "showland": true,
           "subunitcolor": "white"
          },
          "hoverlabel": {
           "align": "left"
          },
          "hovermode": "closest",
          "mapbox": {
           "style": "light"
          },
          "paper_bgcolor": "white",
          "plot_bgcolor": "#E5ECF6",
          "polar": {
           "angularaxis": {
            "gridcolor": "white",
            "linecolor": "white",
            "ticks": ""
           },
           "bgcolor": "#E5ECF6",
           "radialaxis": {
            "gridcolor": "white",
            "linecolor": "white",
            "ticks": ""
           }
          },
          "scene": {
           "xaxis": {
            "backgroundcolor": "#E5ECF6",
            "gridcolor": "white",
            "gridwidth": 2,
            "linecolor": "white",
            "showbackground": true,
            "ticks": "",
            "zerolinecolor": "white"
           },
           "yaxis": {
            "backgroundcolor": "#E5ECF6",
            "gridcolor": "white",
            "gridwidth": 2,
            "linecolor": "white",
            "showbackground": true,
            "ticks": "",
            "zerolinecolor": "white"
           },
           "zaxis": {
            "backgroundcolor": "#E5ECF6",
            "gridcolor": "white",
            "gridwidth": 2,
            "linecolor": "white",
            "showbackground": true,
            "ticks": "",
            "zerolinecolor": "white"
           }
          },
          "shapedefaults": {
           "line": {
            "color": "#2a3f5f"
           }
          },
          "ternary": {
           "aaxis": {
            "gridcolor": "white",
            "linecolor": "white",
            "ticks": ""
           },
           "baxis": {
            "gridcolor": "white",
            "linecolor": "white",
            "ticks": ""
           },
           "bgcolor": "#E5ECF6",
           "caxis": {
            "gridcolor": "white",
            "linecolor": "white",
            "ticks": ""
           }
          },
          "title": {
           "x": 0.05
          },
          "xaxis": {
           "automargin": true,
           "gridcolor": "white",
           "linecolor": "white",
           "ticks": "",
           "title": {
            "standoff": 15
           },
           "zerolinecolor": "white",
           "zerolinewidth": 2
          },
          "yaxis": {
           "automargin": true,
           "gridcolor": "white",
           "linecolor": "white",
           "ticks": "",
           "title": {
            "standoff": 15
           },
           "zerolinecolor": "white",
           "zerolinewidth": 2
          }
         }
        },
        "title": {
         "text": "KMeans Clustering Scores"
        },
        "width": 1000,
        "xaxis": {
         "anchor": "y",
         "domain": [
          0,
          0.45
         ],
         "title": {
          "text": "Number of Clusters (K)"
         }
        },
        "xaxis2": {
         "anchor": "y2",
         "domain": [
          0.55,
          1
         ],
         "title": {
          "text": "Number of Clusters (K)"
         }
        },
        "yaxis": {
         "anchor": "x",
         "domain": [
          0,
          1
         ],
         "title": {
          "text": "Inertia"
         }
        },
        "yaxis2": {
         "anchor": "x2",
         "domain": [
          0,
          1
         ],
         "title": {
          "text": "Silhouette"
         }
        }
       }
      }
     },
     "metadata": {},
     "output_type": "display_data"
    }
   ],
   "source": [
    "scaled_df_copy = scale_features(df_copy)\n",
    "\n",
    "# Define k_range\n",
    "k_range = range(2, 10)\n",
    "\n",
    "# Calculate KMeans scores using the scaled copy of the dataframe\n",
    "inertias, silhouettes = calculate_kmeans_score(scaled_df_copy, k_range)\n",
    "\n",
    "# Plot the scores using Plotly\n",
    "plot_kmeans_scores(k_range, inertias, silhouettes)"
   ]
  },
  {
   "cell_type": "markdown",
   "metadata": {},
   "source": [
    "### Interpretation of KMeans Clustering Scores\n",
    "- *Inertia Scores*: Show a decreasing trend with increasing K, as expected. The steep decline up to K=4 or K=5 indicates that these values could be optimal.\n",
    "- *Silhouette Scores*: Peaks at K=5 and K=9 suggest that these numbers of clusters provide the best-defined clusters. A significant drop at K=7 indicates poor clustering quality.\n",
    "\n",
    "*Conclusion*\n",
    "- Considering both inertia and silhouette scores, ``K=5`` seems to be a strong candidate for the optimal number of clusters, as it balances low inertia and high silhouette scores."
   ]
  },
  {
   "cell_type": "markdown",
   "metadata": {},
   "source": [
    "# 4. Clustering"
   ]
  },
  {
   "cell_type": "code",
   "execution_count": 36,
   "metadata": {},
   "outputs": [],
   "source": [
    "def fit_kmeans_and_label_clusters(df, scaled_df, n_clusters=5, n_init=10):\n",
    "    #create copy of the original df to preserve integrity\n",
    "    df_copy = df.copy()\n",
    "\n",
    "    #fit the final model with the specified number of clusters\n",
    "    kmean_final = KMeans(n_clusters=n_clusters, n_init=n_init, random_state=42)\n",
    "    kmean_final.fit(scaled_df)\n",
    "\n",
    "    df_copy['Cluster'] = kmean_final.labels_\n",
    "    cluster_descriptions = df_copy.groupby('Cluster').mean()\n",
    "    \n",
    "    return cluster_descriptions"
   ]
  },
  {
   "cell_type": "code",
   "execution_count": 37,
   "metadata": {},
   "outputs": [
    {
     "data": {
      "text/html": [
       "<div>\n",
       "<style scoped>\n",
       "    .dataframe tbody tr th:only-of-type {\n",
       "        vertical-align: middle;\n",
       "    }\n",
       "\n",
       "    .dataframe tbody tr th {\n",
       "        vertical-align: top;\n",
       "    }\n",
       "\n",
       "    .dataframe thead th {\n",
       "        text-align: right;\n",
       "    }\n",
       "</style>\n",
       "<table border=\"1\" class=\"dataframe\">\n",
       "  <thead>\n",
       "    <tr style=\"text-align: right;\">\n",
       "      <th></th>\n",
       "      <th>SalePrice</th>\n",
       "      <th>SqFt1stFloor</th>\n",
       "      <th>SqFtHalfFloor</th>\n",
       "      <th>SqFt2ndFloor</th>\n",
       "      <th>SqFtUpperFloor</th>\n",
       "      <th>SqFtTotLiving</th>\n",
       "      <th>SqFtTotBasement</th>\n",
       "      <th>SqFtFinBasement</th>\n",
       "      <th>SqFtGarageBasement</th>\n",
       "      <th>SqFtGarageAttached</th>\n",
       "      <th>...</th>\n",
       "      <th>SqFtEnclosedPorch</th>\n",
       "      <th>SqFtDeck</th>\n",
       "      <th>BrickStone</th>\n",
       "      <th>Bedrooms</th>\n",
       "      <th>BathHalfCount</th>\n",
       "      <th>Bath3qtrCount</th>\n",
       "      <th>BathFullCount</th>\n",
       "      <th>YrBuilt</th>\n",
       "      <th>Longitude</th>\n",
       "      <th>Latitude</th>\n",
       "    </tr>\n",
       "    <tr>\n",
       "      <th>Cluster</th>\n",
       "      <th></th>\n",
       "      <th></th>\n",
       "      <th></th>\n",
       "      <th></th>\n",
       "      <th></th>\n",
       "      <th></th>\n",
       "      <th></th>\n",
       "      <th></th>\n",
       "      <th></th>\n",
       "      <th></th>\n",
       "      <th></th>\n",
       "      <th></th>\n",
       "      <th></th>\n",
       "      <th></th>\n",
       "      <th></th>\n",
       "      <th></th>\n",
       "      <th></th>\n",
       "      <th></th>\n",
       "      <th></th>\n",
       "      <th></th>\n",
       "      <th></th>\n",
       "    </tr>\n",
       "  </thead>\n",
       "  <tbody>\n",
       "    <tr>\n",
       "      <th>0</th>\n",
       "      <td>800569.38</td>\n",
       "      <td>1308.39</td>\n",
       "      <td>129.22</td>\n",
       "      <td>104.51</td>\n",
       "      <td>10.31</td>\n",
       "      <td>2074.66</td>\n",
       "      <td>1030.47</td>\n",
       "      <td>523.94</td>\n",
       "      <td>135.23</td>\n",
       "      <td>89.59</td>\n",
       "      <td>...</td>\n",
       "      <td>4.77</td>\n",
       "      <td>98.39</td>\n",
       "      <td>92.98</td>\n",
       "      <td>3.22</td>\n",
       "      <td>0.35</td>\n",
       "      <td>0.52</td>\n",
       "      <td>1.18</td>\n",
       "      <td>1947.64</td>\n",
       "      <td>-122.31</td>\n",
       "      <td>47.61</td>\n",
       "    </tr>\n",
       "    <tr>\n",
       "      <th>1</th>\n",
       "      <td>697329.68</td>\n",
       "      <td>559.87</td>\n",
       "      <td>6.76</td>\n",
       "      <td>555.49</td>\n",
       "      <td>146.74</td>\n",
       "      <td>1531.81</td>\n",
       "      <td>374.72</td>\n",
       "      <td>267.07</td>\n",
       "      <td>103.23</td>\n",
       "      <td>10.36</td>\n",
       "      <td>...</td>\n",
       "      <td>16.10</td>\n",
       "      <td>297.75</td>\n",
       "      <td>0.00</td>\n",
       "      <td>2.75</td>\n",
       "      <td>0.53</td>\n",
       "      <td>0.91</td>\n",
       "      <td>1.24</td>\n",
       "      <td>2015.96</td>\n",
       "      <td>-122.33</td>\n",
       "      <td>47.62</td>\n",
       "    </tr>\n",
       "    <tr>\n",
       "      <th>2</th>\n",
       "      <td>529801.87</td>\n",
       "      <td>1199.17</td>\n",
       "      <td>92.03</td>\n",
       "      <td>67.54</td>\n",
       "      <td>0.00</td>\n",
       "      <td>1435.00</td>\n",
       "      <td>346.77</td>\n",
       "      <td>80.80</td>\n",
       "      <td>25.97</td>\n",
       "      <td>159.11</td>\n",
       "      <td>...</td>\n",
       "      <td>7.88</td>\n",
       "      <td>67.28</td>\n",
       "      <td>0.84</td>\n",
       "      <td>3.03</td>\n",
       "      <td>0.21</td>\n",
       "      <td>0.29</td>\n",
       "      <td>1.10</td>\n",
       "      <td>1947.47</td>\n",
       "      <td>-122.28</td>\n",
       "      <td>47.55</td>\n",
       "    </tr>\n",
       "    <tr>\n",
       "      <th>3</th>\n",
       "      <td>700837.24</td>\n",
       "      <td>1411.69</td>\n",
       "      <td>24.28</td>\n",
       "      <td>82.74</td>\n",
       "      <td>0.00</td>\n",
       "      <td>2323.93</td>\n",
       "      <td>1228.91</td>\n",
       "      <td>805.37</td>\n",
       "      <td>243.72</td>\n",
       "      <td>138.65</td>\n",
       "      <td>...</td>\n",
       "      <td>6.05</td>\n",
       "      <td>206.61</td>\n",
       "      <td>1.55</td>\n",
       "      <td>3.83</td>\n",
       "      <td>0.40</td>\n",
       "      <td>0.94</td>\n",
       "      <td>1.32</td>\n",
       "      <td>1965.34</td>\n",
       "      <td>-122.25</td>\n",
       "      <td>47.58</td>\n",
       "    </tr>\n",
       "    <tr>\n",
       "      <th>4</th>\n",
       "      <td>870959.46</td>\n",
       "      <td>1372.70</td>\n",
       "      <td>30.67</td>\n",
       "      <td>1400.64</td>\n",
       "      <td>9.24</td>\n",
       "      <td>2959.10</td>\n",
       "      <td>207.03</td>\n",
       "      <td>146.59</td>\n",
       "      <td>28.69</td>\n",
       "      <td>471.03</td>\n",
       "      <td>...</td>\n",
       "      <td>5.04</td>\n",
       "      <td>90.29</td>\n",
       "      <td>0.36</td>\n",
       "      <td>4.23</td>\n",
       "      <td>0.67</td>\n",
       "      <td>0.63</td>\n",
       "      <td>2.05</td>\n",
       "      <td>2003.76</td>\n",
       "      <td>-122.20</td>\n",
       "      <td>47.55</td>\n",
       "    </tr>\n",
       "  </tbody>\n",
       "</table>\n",
       "<p>5 rows × 22 columns</p>\n",
       "</div>"
      ],
      "text/plain": [
       "         SalePrice  SqFt1stFloor  SqFtHalfFloor  SqFt2ndFloor  SqFtUpperFloor  \\\n",
       "Cluster                                                                         \n",
       "0        800569.38       1308.39         129.22        104.51           10.31   \n",
       "1        697329.68        559.87           6.76        555.49          146.74   \n",
       "2        529801.87       1199.17          92.03         67.54            0.00   \n",
       "3        700837.24       1411.69          24.28         82.74            0.00   \n",
       "4        870959.46       1372.70          30.67       1400.64            9.24   \n",
       "\n",
       "         SqFtTotLiving  SqFtTotBasement  SqFtFinBasement  SqFtGarageBasement  \\\n",
       "Cluster                                                                        \n",
       "0              2074.66          1030.47           523.94              135.23   \n",
       "1              1531.81           374.72           267.07              103.23   \n",
       "2              1435.00           346.77            80.80               25.97   \n",
       "3              2323.93          1228.91           805.37              243.72   \n",
       "4              2959.10           207.03           146.59               28.69   \n",
       "\n",
       "         SqFtGarageAttached  ...  SqFtEnclosedPorch  SqFtDeck  BrickStone  \\\n",
       "Cluster                      ...                                            \n",
       "0                     89.59  ...               4.77     98.39       92.98   \n",
       "1                     10.36  ...              16.10    297.75        0.00   \n",
       "2                    159.11  ...               7.88     67.28        0.84   \n",
       "3                    138.65  ...               6.05    206.61        1.55   \n",
       "4                    471.03  ...               5.04     90.29        0.36   \n",
       "\n",
       "         Bedrooms  BathHalfCount  Bath3qtrCount  BathFullCount  YrBuilt  \\\n",
       "Cluster                                                                   \n",
       "0            3.22           0.35           0.52           1.18  1947.64   \n",
       "1            2.75           0.53           0.91           1.24  2015.96   \n",
       "2            3.03           0.21           0.29           1.10  1947.47   \n",
       "3            3.83           0.40           0.94           1.32  1965.34   \n",
       "4            4.23           0.67           0.63           2.05  2003.76   \n",
       "\n",
       "         Longitude  Latitude  \n",
       "Cluster                       \n",
       "0          -122.31     47.61  \n",
       "1          -122.33     47.62  \n",
       "2          -122.28     47.55  \n",
       "3          -122.25     47.58  \n",
       "4          -122.20     47.55  \n",
       "\n",
       "[5 rows x 22 columns]"
      ]
     },
     "execution_count": 37,
     "metadata": {},
     "output_type": "execute_result"
    }
   ],
   "source": [
    "#fit kmeans and label clusters\n",
    "cluster_descriptions = fit_kmeans_and_label_clusters(df, scaled_df_copy)\n",
    "cluster_descriptions"
   ]
  },
  {
   "cell_type": "code",
   "execution_count": 56,
   "metadata": {},
   "outputs": [],
   "source": [
    "def visualize_clusters_plotly(cluster_descriptions, column, title, ylabel, colors):\n",
    "    fig = px.bar(\n",
    "        cluster_descriptions.reset_index(),\n",
    "        x='Cluster',\n",
    "        y=column,\n",
    "        color='Cluster',\n",
    "        color_discrete_sequence=colors,\n",
    "        title=title,\n",
    "        labels={'Cluster': 'Cluster', column: ylabel}\n",
    "    )\n",
    "\n",
    "    fig.update_layout(\n",
    "        title={'x': 0.5},  # Center the title\n",
    "        xaxis_title='Cluster',\n",
    "        yaxis_title=ylabel\n",
    "    )\n",
    "\n",
    "\n",
    "#visualize Sale Price\n",
    "visualize_clusters_plotly(\n",
    "    cluster_descriptions=cluster_descriptions,\n",
    "    column='SalePrice',\n",
    "    title='Average Sale Price per Cluster',\n",
    "    ylabel='Average Sale Price ($)',\n",
    "    colors=px.colors.qualitative.Plotly,\n",
    ")\n",
    "\n",
    "#visualize total living are\n",
    "visualize_clusters_plotly(\n",
    "    cluster_descriptions=cluster_descriptions,\n",
    "    column='SqFtTotLiving',\n",
    "    title='Average Total Living Area per Cluster',\n",
    "    ylabel='Total Living Area (sq ft)',\n",
    "    colors=px.colors.qualitative.Plotly,\n",
    ")\n",
    "\n",
    "# Visualize Number of Bedrooms\n",
    "visualize_clusters_plotly(\n",
    "    cluster_descriptions=cluster_descriptions,\n",
    "    column='Bedrooms',\n",
    "    title=\"Average Number of Bedrooms per Cluster\",\n",
    "    ylabel=\"Number of Bedrooms\",\n",
    "    colors=px.colors.qualitative.Plotly,\n",
    ")\n"
   ]
  },
  {
   "cell_type": "code",
   "execution_count": null,
   "metadata": {},
   "outputs": [],
   "source": []
  }
 ],
 "metadata": {
  "kernelspec": {
   "display_name": "ds-gg",
   "language": "python",
   "name": "python3"
  },
  "language_info": {
   "codemirror_mode": {
    "name": "ipython",
    "version": 3
   },
   "file_extension": ".py",
   "mimetype": "text/x-python",
   "name": "python",
   "nbconvert_exporter": "python",
   "pygments_lexer": "ipython3",
   "version": "3.10.9"
  }
 },
 "nbformat": 4,
 "nbformat_minor": 2
}
