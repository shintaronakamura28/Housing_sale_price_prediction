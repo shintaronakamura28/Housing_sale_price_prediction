{
 "cells": [
  {
   "cell_type": "markdown",
   "metadata": {},
   "source": [
    "### Deliverables \n",
    "1. EDA\n",
    "2. Data Viz\n",
    "3. Clustering\n",
    "4. Silhouette + Inertia\n",
    "5. 3 different DL models > base\n",
    "6. 3 DL finetuned models > Keras Tuner\n",
    "7. 3 ML different ML models > base\n",
    "8. 3 ML finetuned models > GridsearchCV\n",
    "9. Feature importance\n",
    "10. top 10 most common important features on all 3 ML models\n",
    "11. SHAP Forceplots\n",
    "12. LIME\n",
    "13. Saved dataset with the top 10 most common and significant features\n",
    "14. Select the 2 best models (2 ML)\n",
    "15. Conclusion and explain why these 2 models and why a DL model if able"
   ]
  },
  {
   "cell_type": "code",
   "execution_count": 1,
   "metadata": {},
   "outputs": [],
   "source": [
    "import pandas as pd\n",
    "import numpy as np \n",
    "import matplotlib.pyplot as plt\n",
    "import seaborn as sn \n",
    "import missingno as mn\n",
    "\n",
    "#preprocessing\n",
    "from sklearn.preprocessing import StandardScaler, OneHotEncoder, LabelEncoder\n",
    "from sklearn.model_selection import train_test_split, GridSearchCV, learning_curve\n",
    "from sklearn.impute import KNNImputer\n",
    "from sklearn.compose import ColumnTransformer, make_column_selector\n",
    "from imblearn.pipeline import Pipeline\n",
    "from imblearn.over_sampling import SMOTE\n",
    "from sklearn.exceptions import NotFittedError\n",
    "\n",
    "#models\n",
    "from sklearn.tree import DecisionTreeClassifier\n",
    "from sklearn.neighbors import KNeighborsClassifier\n",
    "from sklearn.svm import NuSVC\n",
    "from sklearn.ensemble import RandomForestClassifier, AdaBoostClassifier\n",
    "from lazypredict.Supervised import LazyClassifier\n",
    "from sklearn.svm import LinearSVC\n",
    "from sklearn.calibration import CalibratedClassifierCV\n",
    "from sklearn.linear_model import LogisticRegression\n",
    "\n",
    "#metrics\n",
    "from sklearn.metrics import(recall_score, accuracy_score, f1_score, precision_score, confusion_matrix, classification_report, ConfusionMatrixDisplay, roc_curve, auc)\n",
    "\n",
    "#SHAP explainer\n",
    "import shap\n",
    "\n",
    "#LIME\n",
    "import lime\n",
    "import lime.lime_tabular\n",
    "\n",
    "#widgets and dispaly\n",
    "import ipywidgets as widgets\n",
    "from IPython.display import display\n",
    "\n",
    "#utilities\n",
    "import pickle\n",
    "import os\n",
    "from tqdm import tqdm"
   ]
  },
  {
   "cell_type": "markdown",
   "metadata": {},
   "source": [
    "mm"
   ]
  }
 ],
 "metadata": {
  "kernelspec": {
   "display_name": "ds-gg",
   "language": "python",
   "name": "python3"
  },
  "language_info": {
   "codemirror_mode": {
    "name": "ipython",
    "version": 3
   },
   "file_extension": ".py",
   "mimetype": "text/x-python",
   "name": "python",
   "nbconvert_exporter": "python",
   "pygments_lexer": "ipython3",
   "version": "3.10.9"
  }
 },
 "nbformat": 4,
 "nbformat_minor": 2
}
